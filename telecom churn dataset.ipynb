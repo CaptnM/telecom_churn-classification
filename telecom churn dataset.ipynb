{
 "cells": [
  {
   "cell_type": "code",
   "execution_count": 1,
   "id": "5e9c3493",
   "metadata": {},
   "outputs": [],
   "source": [
    "#classification on telecom_churn dataset"
   ]
  },
  {
   "cell_type": "code",
   "execution_count": 2,
   "id": "31a67a24",
   "metadata": {},
   "outputs": [],
   "source": [
    "# import all basic libraries\n",
    "import numpy as np\n",
    "import pandas as pd\n",
    "import seaborn as sb\n",
    "import matplotlib.pyplot as plt\n",
    "import warnings\n",
    "warnings.filterwarnings(\"ignore\")"
   ]
  },
  {
   "cell_type": "code",
   "execution_count": 3,
   "id": "ef16d5c3",
   "metadata": {},
   "outputs": [
    {
     "data": {
      "text/html": [
       "<div>\n",
       "<style scoped>\n",
       "    .dataframe tbody tr th:only-of-type {\n",
       "        vertical-align: middle;\n",
       "    }\n",
       "\n",
       "    .dataframe tbody tr th {\n",
       "        vertical-align: top;\n",
       "    }\n",
       "\n",
       "    .dataframe thead th {\n",
       "        text-align: right;\n",
       "    }\n",
       "</style>\n",
       "<table border=\"1\" class=\"dataframe\">\n",
       "  <thead>\n",
       "    <tr style=\"text-align: right;\">\n",
       "      <th></th>\n",
       "      <th>customerID</th>\n",
       "      <th>gender</th>\n",
       "      <th>SeniorCitizen</th>\n",
       "      <th>Partner</th>\n",
       "      <th>Dependents</th>\n",
       "      <th>tenure</th>\n",
       "      <th>PhoneService</th>\n",
       "      <th>MultipleLines</th>\n",
       "      <th>InternetService</th>\n",
       "      <th>OnlineSecurity</th>\n",
       "      <th>...</th>\n",
       "      <th>DeviceProtection</th>\n",
       "      <th>TechSupport</th>\n",
       "      <th>StreamingTV</th>\n",
       "      <th>StreamingMovies</th>\n",
       "      <th>Contract</th>\n",
       "      <th>PaperlessBilling</th>\n",
       "      <th>PaymentMethod</th>\n",
       "      <th>MonthlyCharges</th>\n",
       "      <th>TotalCharges</th>\n",
       "      <th>Churn</th>\n",
       "    </tr>\n",
       "  </thead>\n",
       "  <tbody>\n",
       "    <tr>\n",
       "      <th>0</th>\n",
       "      <td>7590-VHVEG</td>\n",
       "      <td>Female</td>\n",
       "      <td>0</td>\n",
       "      <td>Yes</td>\n",
       "      <td>No</td>\n",
       "      <td>1</td>\n",
       "      <td>No</td>\n",
       "      <td>No phone service</td>\n",
       "      <td>DSL</td>\n",
       "      <td>No</td>\n",
       "      <td>...</td>\n",
       "      <td>No</td>\n",
       "      <td>No</td>\n",
       "      <td>No</td>\n",
       "      <td>No</td>\n",
       "      <td>Month-to-month</td>\n",
       "      <td>Yes</td>\n",
       "      <td>Electronic check</td>\n",
       "      <td>29.85</td>\n",
       "      <td>29.85</td>\n",
       "      <td>No</td>\n",
       "    </tr>\n",
       "    <tr>\n",
       "      <th>1</th>\n",
       "      <td>5575-GNVDE</td>\n",
       "      <td>Male</td>\n",
       "      <td>0</td>\n",
       "      <td>No</td>\n",
       "      <td>No</td>\n",
       "      <td>34</td>\n",
       "      <td>Yes</td>\n",
       "      <td>No</td>\n",
       "      <td>DSL</td>\n",
       "      <td>Yes</td>\n",
       "      <td>...</td>\n",
       "      <td>Yes</td>\n",
       "      <td>No</td>\n",
       "      <td>No</td>\n",
       "      <td>No</td>\n",
       "      <td>One year</td>\n",
       "      <td>No</td>\n",
       "      <td>Mailed check</td>\n",
       "      <td>56.95</td>\n",
       "      <td>1889.5</td>\n",
       "      <td>No</td>\n",
       "    </tr>\n",
       "    <tr>\n",
       "      <th>2</th>\n",
       "      <td>3668-QPYBK</td>\n",
       "      <td>Male</td>\n",
       "      <td>0</td>\n",
       "      <td>No</td>\n",
       "      <td>No</td>\n",
       "      <td>2</td>\n",
       "      <td>Yes</td>\n",
       "      <td>No</td>\n",
       "      <td>DSL</td>\n",
       "      <td>Yes</td>\n",
       "      <td>...</td>\n",
       "      <td>No</td>\n",
       "      <td>No</td>\n",
       "      <td>No</td>\n",
       "      <td>No</td>\n",
       "      <td>Month-to-month</td>\n",
       "      <td>Yes</td>\n",
       "      <td>Mailed check</td>\n",
       "      <td>53.85</td>\n",
       "      <td>108.15</td>\n",
       "      <td>Yes</td>\n",
       "    </tr>\n",
       "    <tr>\n",
       "      <th>3</th>\n",
       "      <td>7795-CFOCW</td>\n",
       "      <td>Male</td>\n",
       "      <td>0</td>\n",
       "      <td>No</td>\n",
       "      <td>No</td>\n",
       "      <td>45</td>\n",
       "      <td>No</td>\n",
       "      <td>No phone service</td>\n",
       "      <td>DSL</td>\n",
       "      <td>Yes</td>\n",
       "      <td>...</td>\n",
       "      <td>Yes</td>\n",
       "      <td>Yes</td>\n",
       "      <td>No</td>\n",
       "      <td>No</td>\n",
       "      <td>One year</td>\n",
       "      <td>No</td>\n",
       "      <td>Bank transfer (automatic)</td>\n",
       "      <td>42.30</td>\n",
       "      <td>1840.75</td>\n",
       "      <td>No</td>\n",
       "    </tr>\n",
       "    <tr>\n",
       "      <th>4</th>\n",
       "      <td>9237-HQITU</td>\n",
       "      <td>Female</td>\n",
       "      <td>0</td>\n",
       "      <td>No</td>\n",
       "      <td>No</td>\n",
       "      <td>2</td>\n",
       "      <td>Yes</td>\n",
       "      <td>No</td>\n",
       "      <td>Fiber optic</td>\n",
       "      <td>No</td>\n",
       "      <td>...</td>\n",
       "      <td>No</td>\n",
       "      <td>No</td>\n",
       "      <td>No</td>\n",
       "      <td>No</td>\n",
       "      <td>Month-to-month</td>\n",
       "      <td>Yes</td>\n",
       "      <td>Electronic check</td>\n",
       "      <td>70.70</td>\n",
       "      <td>151.65</td>\n",
       "      <td>Yes</td>\n",
       "    </tr>\n",
       "    <tr>\n",
       "      <th>5</th>\n",
       "      <td>9305-CDSKC</td>\n",
       "      <td>Female</td>\n",
       "      <td>0</td>\n",
       "      <td>No</td>\n",
       "      <td>No</td>\n",
       "      <td>8</td>\n",
       "      <td>Yes</td>\n",
       "      <td>Yes</td>\n",
       "      <td>Fiber optic</td>\n",
       "      <td>No</td>\n",
       "      <td>...</td>\n",
       "      <td>Yes</td>\n",
       "      <td>No</td>\n",
       "      <td>Yes</td>\n",
       "      <td>Yes</td>\n",
       "      <td>Month-to-month</td>\n",
       "      <td>Yes</td>\n",
       "      <td>Electronic check</td>\n",
       "      <td>99.65</td>\n",
       "      <td>820.5</td>\n",
       "      <td>Yes</td>\n",
       "    </tr>\n",
       "    <tr>\n",
       "      <th>6</th>\n",
       "      <td>1452-KIOVK</td>\n",
       "      <td>Male</td>\n",
       "      <td>0</td>\n",
       "      <td>No</td>\n",
       "      <td>Yes</td>\n",
       "      <td>22</td>\n",
       "      <td>Yes</td>\n",
       "      <td>Yes</td>\n",
       "      <td>Fiber optic</td>\n",
       "      <td>No</td>\n",
       "      <td>...</td>\n",
       "      <td>No</td>\n",
       "      <td>No</td>\n",
       "      <td>Yes</td>\n",
       "      <td>No</td>\n",
       "      <td>Month-to-month</td>\n",
       "      <td>Yes</td>\n",
       "      <td>Credit card (automatic)</td>\n",
       "      <td>89.10</td>\n",
       "      <td>1949.4</td>\n",
       "      <td>No</td>\n",
       "    </tr>\n",
       "    <tr>\n",
       "      <th>7</th>\n",
       "      <td>6713-OKOMC</td>\n",
       "      <td>Female</td>\n",
       "      <td>0</td>\n",
       "      <td>No</td>\n",
       "      <td>No</td>\n",
       "      <td>10</td>\n",
       "      <td>No</td>\n",
       "      <td>No phone service</td>\n",
       "      <td>DSL</td>\n",
       "      <td>Yes</td>\n",
       "      <td>...</td>\n",
       "      <td>No</td>\n",
       "      <td>No</td>\n",
       "      <td>No</td>\n",
       "      <td>No</td>\n",
       "      <td>Month-to-month</td>\n",
       "      <td>No</td>\n",
       "      <td>Mailed check</td>\n",
       "      <td>29.75</td>\n",
       "      <td>301.9</td>\n",
       "      <td>No</td>\n",
       "    </tr>\n",
       "    <tr>\n",
       "      <th>8</th>\n",
       "      <td>7892-POOKP</td>\n",
       "      <td>Female</td>\n",
       "      <td>0</td>\n",
       "      <td>Yes</td>\n",
       "      <td>No</td>\n",
       "      <td>28</td>\n",
       "      <td>Yes</td>\n",
       "      <td>Yes</td>\n",
       "      <td>Fiber optic</td>\n",
       "      <td>No</td>\n",
       "      <td>...</td>\n",
       "      <td>Yes</td>\n",
       "      <td>Yes</td>\n",
       "      <td>Yes</td>\n",
       "      <td>Yes</td>\n",
       "      <td>Month-to-month</td>\n",
       "      <td>Yes</td>\n",
       "      <td>Electronic check</td>\n",
       "      <td>104.80</td>\n",
       "      <td>3046.05</td>\n",
       "      <td>Yes</td>\n",
       "    </tr>\n",
       "    <tr>\n",
       "      <th>9</th>\n",
       "      <td>6388-TABGU</td>\n",
       "      <td>Male</td>\n",
       "      <td>0</td>\n",
       "      <td>No</td>\n",
       "      <td>Yes</td>\n",
       "      <td>62</td>\n",
       "      <td>Yes</td>\n",
       "      <td>No</td>\n",
       "      <td>DSL</td>\n",
       "      <td>Yes</td>\n",
       "      <td>...</td>\n",
       "      <td>No</td>\n",
       "      <td>No</td>\n",
       "      <td>No</td>\n",
       "      <td>No</td>\n",
       "      <td>One year</td>\n",
       "      <td>No</td>\n",
       "      <td>Bank transfer (automatic)</td>\n",
       "      <td>56.15</td>\n",
       "      <td>3487.95</td>\n",
       "      <td>No</td>\n",
       "    </tr>\n",
       "  </tbody>\n",
       "</table>\n",
       "<p>10 rows × 21 columns</p>\n",
       "</div>"
      ],
      "text/plain": [
       "   customerID  gender  SeniorCitizen Partner Dependents  tenure PhoneService  \\\n",
       "0  7590-VHVEG  Female              0     Yes         No       1           No   \n",
       "1  5575-GNVDE    Male              0      No         No      34          Yes   \n",
       "2  3668-QPYBK    Male              0      No         No       2          Yes   \n",
       "3  7795-CFOCW    Male              0      No         No      45           No   \n",
       "4  9237-HQITU  Female              0      No         No       2          Yes   \n",
       "5  9305-CDSKC  Female              0      No         No       8          Yes   \n",
       "6  1452-KIOVK    Male              0      No        Yes      22          Yes   \n",
       "7  6713-OKOMC  Female              0      No         No      10           No   \n",
       "8  7892-POOKP  Female              0     Yes         No      28          Yes   \n",
       "9  6388-TABGU    Male              0      No        Yes      62          Yes   \n",
       "\n",
       "      MultipleLines InternetService OnlineSecurity  ... DeviceProtection  \\\n",
       "0  No phone service             DSL             No  ...               No   \n",
       "1                No             DSL            Yes  ...              Yes   \n",
       "2                No             DSL            Yes  ...               No   \n",
       "3  No phone service             DSL            Yes  ...              Yes   \n",
       "4                No     Fiber optic             No  ...               No   \n",
       "5               Yes     Fiber optic             No  ...              Yes   \n",
       "6               Yes     Fiber optic             No  ...               No   \n",
       "7  No phone service             DSL            Yes  ...               No   \n",
       "8               Yes     Fiber optic             No  ...              Yes   \n",
       "9                No             DSL            Yes  ...               No   \n",
       "\n",
       "  TechSupport StreamingTV StreamingMovies        Contract PaperlessBilling  \\\n",
       "0          No          No              No  Month-to-month              Yes   \n",
       "1          No          No              No        One year               No   \n",
       "2          No          No              No  Month-to-month              Yes   \n",
       "3         Yes          No              No        One year               No   \n",
       "4          No          No              No  Month-to-month              Yes   \n",
       "5          No         Yes             Yes  Month-to-month              Yes   \n",
       "6          No         Yes              No  Month-to-month              Yes   \n",
       "7          No          No              No  Month-to-month               No   \n",
       "8         Yes         Yes             Yes  Month-to-month              Yes   \n",
       "9          No          No              No        One year               No   \n",
       "\n",
       "               PaymentMethod MonthlyCharges  TotalCharges Churn  \n",
       "0           Electronic check          29.85         29.85    No  \n",
       "1               Mailed check          56.95        1889.5    No  \n",
       "2               Mailed check          53.85        108.15   Yes  \n",
       "3  Bank transfer (automatic)          42.30       1840.75    No  \n",
       "4           Electronic check          70.70        151.65   Yes  \n",
       "5           Electronic check          99.65         820.5   Yes  \n",
       "6    Credit card (automatic)          89.10        1949.4    No  \n",
       "7               Mailed check          29.75         301.9    No  \n",
       "8           Electronic check         104.80       3046.05   Yes  \n",
       "9  Bank transfer (automatic)          56.15       3487.95    No  \n",
       "\n",
       "[10 rows x 21 columns]"
      ]
     },
     "execution_count": 3,
     "metadata": {},
     "output_type": "execute_result"
    }
   ],
   "source": [
    "#to load dataset\n",
    "df=pd.read_csv(\"telecom_churn.csv\")\n",
    "df.head(10)"
   ]
  },
  {
   "cell_type": "code",
   "execution_count": 4,
   "id": "b4f84d54",
   "metadata": {},
   "outputs": [],
   "source": [
    "#To remove unwanted columns\n",
    "df.drop('customerID',axis=1,inplace=True)"
   ]
  },
  {
   "cell_type": "code",
   "execution_count": 5,
   "id": "499ebb97",
   "metadata": {},
   "outputs": [
    {
     "data": {
      "text/plain": [
       "(7043, 20)"
      ]
     },
     "execution_count": 5,
     "metadata": {},
     "output_type": "execute_result"
    }
   ],
   "source": [
    "# to check number of records in rows and column\n",
    "df.shape"
   ]
  },
  {
   "cell_type": "code",
   "execution_count": 6,
   "id": "2b6916da",
   "metadata": {},
   "outputs": [
    {
     "data": {
      "text/plain": [
       "gender              0\n",
       "SeniorCitizen       0\n",
       "Partner             0\n",
       "Dependents          0\n",
       "tenure              0\n",
       "PhoneService        0\n",
       "MultipleLines       0\n",
       "InternetService     0\n",
       "OnlineSecurity      0\n",
       "OnlineBackup        0\n",
       "DeviceProtection    0\n",
       "TechSupport         0\n",
       "StreamingTV         0\n",
       "StreamingMovies     0\n",
       "Contract            0\n",
       "PaperlessBilling    0\n",
       "PaymentMethod       0\n",
       "MonthlyCharges      0\n",
       "TotalCharges        0\n",
       "Churn               0\n",
       "dtype: int64"
      ]
     },
     "execution_count": 6,
     "metadata": {},
     "output_type": "execute_result"
    }
   ],
   "source": [
    "# to checknull values and its sum\n",
    "df.isnull().sum()"
   ]
  },
  {
   "cell_type": "code",
   "execution_count": 7,
   "id": "46ced77e",
   "metadata": {},
   "outputs": [
    {
     "data": {
      "image/png": "[encoded data removed]",
      "text/plain": [
       "<Figure size 432x288 with 2 Axes>"
      ]
     },
     "metadata": {
      "needs_background": "light"
     },
     "output_type": "display_data"
    }
   ],
   "source": [
    "# to check null valuesin visualization\n",
    "sb.heatmap(df.isnull())\n",
    "plt.show()"
   ]
  },
  {
   "cell_type": "code",
   "execution_count": 8,
   "id": "4bf036cc",
   "metadata": {},
   "outputs": [
    {
     "data": {
      "text/plain": [
       "22"
      ]
     },
     "execution_count": 8,
     "metadata": {},
     "output_type": "execute_result"
    }
   ],
   "source": [
    "# to check dplicate values in dataset\n",
    "df.duplicated().sum()"
   ]
  },
  {
   "cell_type": "code",
   "execution_count": 9,
   "id": "74961571",
   "metadata": {},
   "outputs": [],
   "source": [
    "#To drop the duplicate values\n",
    "df.drop_duplicates(inplace=True)"
   ]
  },
  {
   "cell_type": "code",
   "execution_count": 10,
   "id": "a923eecf",
   "metadata": {},
   "outputs": [
    {
     "data": {
      "text/plain": [
       "0"
      ]
     },
     "execution_count": 10,
     "metadata": {},
     "output_type": "execute_result"
    }
   ],
   "source": [
    "# to check dplicate values in dataset again\n",
    "df.duplicated().sum()"
   ]
  },
  {
   "cell_type": "code",
   "execution_count": 11,
   "id": "950f1e7d",
   "metadata": {},
   "outputs": [
    {
     "data": {
      "text/plain": [
       "(7021, 20)"
      ]
     },
     "execution_count": 11,
     "metadata": {},
     "output_type": "execute_result"
    }
   ],
   "source": [
    "# to check number of records in rows and column after removing duplicates\n",
    "df.shape"
   ]
  },
  {
   "cell_type": "code",
   "execution_count": 12,
   "id": "8990f527",
   "metadata": {
    "scrolled": true
   },
   "outputs": [
    {
     "data": {
      "text/plain": [
       "gender               object\n",
       "SeniorCitizen         int64\n",
       "Partner              object\n",
       "Dependents           object\n",
       "tenure                int64\n",
       "PhoneService         object\n",
       "MultipleLines        object\n",
       "InternetService      object\n",
       "OnlineSecurity       object\n",
       "OnlineBackup         object\n",
       "DeviceProtection     object\n",
       "TechSupport          object\n",
       "StreamingTV          object\n",
       "StreamingMovies      object\n",
       "Contract             object\n",
       "PaperlessBilling     object\n",
       "PaymentMethod        object\n",
       "MonthlyCharges      float64\n",
       "TotalCharges         object\n",
       "Churn                object\n",
       "dtype: object"
      ]
     },
     "execution_count": 12,
     "metadata": {},
     "output_type": "execute_result"
    }
   ],
   "source": [
    "# to check data types in dataframe\n",
    "df.dtypes"
   ]
  },
  {
   "cell_type": "code",
   "execution_count": 13,
   "id": "3156254e",
   "metadata": {},
   "outputs": [
    {
     "data": {
      "text/plain": [
       "          11\n",
       "19.75      9\n",
       "20.2       8\n",
       "19.9       7\n",
       "19.65      7\n",
       "          ..\n",
       "6849.4     1\n",
       "692.35     1\n",
       "130.15     1\n",
       "3211.9     1\n",
       "6844.5     1\n",
       "Name: TotalCharges, Length: 6531, dtype: int64"
      ]
     },
     "execution_count": 13,
     "metadata": {},
     "output_type": "execute_result"
    }
   ],
   "source": [
    "# variaton found in datatype in column name 'TotalCharges' showing object, but in actual it is float.\n",
    "#To see the values in TotalCharges column\n",
    "df['TotalCharges'].value_counts()"
   ]
  },
  {
   "cell_type": "code",
   "execution_count": 14,
   "id": "b021759f",
   "metadata": {},
   "outputs": [
    {
     "name": "stdout",
     "output_type": "stream",
     "text": [
      "488 :  \n",
      "753 :  \n",
      "936 :  \n",
      "1081 :  \n",
      "1338 :  \n",
      "3323 :  \n",
      "3817 :  \n",
      "4370 :  \n",
      "5207 :  \n",
      "6652 :  \n",
      "6735 :  \n",
      "Number of rows in which there is empty space are :  11\n"
     ]
    }
   ],
   "source": [
    "#To see the spaces in dataset :\n",
    "X=df['TotalCharges'] \n",
    "C=0 \n",
    "for index,value in enumerate(X): \n",
    "    if value.isspace(): \n",
    "        print(index, \":\",value) \n",
    "        C+=1\n",
    "print(\"Number of rows in which there is empty space are : \",C)"
   ]
  },
  {
   "cell_type": "code",
   "execution_count": 15,
   "id": "47ce085a",
   "metadata": {},
   "outputs": [
    {
     "data": {
      "text/plain": [
       "'#To see the spaces :\\nc=0\\nfor i in df[\\'TotalCharges\\']:\\n    if i.isspace():\\n        c+=1\\nprint(\"Number of spaces in the column:\",c)'"
      ]
     },
     "execution_count": 15,
     "metadata": {},
     "output_type": "execute_result"
    }
   ],
   "source": [
    "'''#To see the spaces :\n",
    "c=0\n",
    "for i in df['TotalCharges']:\n",
    "    if i.isspace():\n",
    "        c+=1\n",
    "print(\"Number of spaces in the column:\",c)'''"
   ]
  },
  {
   "cell_type": "code",
   "execution_count": 16,
   "id": "24db6caa",
   "metadata": {},
   "outputs": [],
   "source": [
    "#To convert the TotalCharges from object to column\n",
    "#df['TotalCharges'] = pd.to_numeric(df['TotalCharges'], errors='coerce')"
   ]
  },
  {
   "cell_type": "code",
   "execution_count": 17,
   "id": "27a7d4ec",
   "metadata": {},
   "outputs": [],
   "source": [
    "df['TotalCharges'].replace(' ',np.nan,inplace=True)"
   ]
  },
  {
   "cell_type": "code",
   "execution_count": 18,
   "id": "1c838050",
   "metadata": {},
   "outputs": [
    {
     "name": "stdout",
     "output_type": "stream",
     "text": [
      "<class 'pandas.core.frame.DataFrame'>\n",
      "Int64Index: 7021 entries, 0 to 7042\n",
      "Data columns (total 20 columns):\n",
      " #   Column            Non-Null Count  Dtype  \n",
      "---  ------            --------------  -----  \n",
      " 0   gender            7021 non-null   object \n",
      " 1   SeniorCitizen     7021 non-null   int64  \n",
      " 2   Partner           7021 non-null   object \n",
      " 3   Dependents        7021 non-null   object \n",
      " 4   tenure            7021 non-null   int64  \n",
      " 5   PhoneService      7021 non-null   object \n",
      " 6   MultipleLines     7021 non-null   object \n",
      " 7   InternetService   7021 non-null   object \n",
      " 8   OnlineSecurity    7021 non-null   object \n",
      " 9   OnlineBackup      7021 non-null   object \n",
      " 10  DeviceProtection  7021 non-null   object \n",
      " 11  TechSupport       7021 non-null   object \n",
      " 12  StreamingTV       7021 non-null   object \n",
      " 13  StreamingMovies   7021 non-null   object \n",
      " 14  Contract          7021 non-null   object \n",
      " 15  PaperlessBilling  7021 non-null   object \n",
      " 16  PaymentMethod     7021 non-null   object \n",
      " 17  MonthlyCharges    7021 non-null   float64\n",
      " 18  TotalCharges      7010 non-null   object \n",
      " 19  Churn             7021 non-null   object \n",
      "dtypes: float64(1), int64(2), object(17)\n",
      "memory usage: 1.1+ MB\n"
     ]
    }
   ],
   "source": [
    "# to show all information of given dataset\n",
    "df.info()"
   ]
  },
  {
   "cell_type": "code",
   "execution_count": 19,
   "id": "56ca9d35",
   "metadata": {
    "scrolled": true
   },
   "outputs": [
    {
     "data": {
      "image/png": "[encoded data removed]",
      "text/plain": [
       "<Figure size 432x288 with 2 Axes>"
      ]
     },
     "metadata": {
      "needs_background": "light"
     },
     "output_type": "display_data"
    }
   ],
   "source": [
    "# to check null valuesin visualization\n",
    "#plt.figure(figsize=(20,20))\n",
    "sb.heatmap(df.isnull())\n",
    "plt.show()"
   ]
  },
  {
   "cell_type": "code",
   "execution_count": 20,
   "id": "686a3959",
   "metadata": {},
   "outputs": [
    {
     "data": {
      "text/plain": [
       "gender               object\n",
       "SeniorCitizen         int64\n",
       "Partner              object\n",
       "Dependents           object\n",
       "tenure                int64\n",
       "PhoneService         object\n",
       "MultipleLines        object\n",
       "InternetService      object\n",
       "OnlineSecurity       object\n",
       "OnlineBackup         object\n",
       "DeviceProtection     object\n",
       "TechSupport          object\n",
       "StreamingTV          object\n",
       "StreamingMovies      object\n",
       "Contract             object\n",
       "PaperlessBilling     object\n",
       "PaymentMethod        object\n",
       "MonthlyCharges      float64\n",
       "TotalCharges        float64\n",
       "Churn                object\n",
       "dtype: object"
      ]
     },
     "execution_count": 20,
     "metadata": {},
     "output_type": "execute_result"
    }
   ],
   "source": [
    "# Convert data types of TotalCharges column from object type to float permanently\n",
    "df['TotalCharges']=df['TotalCharges'].astype(\"float\")\n",
    "df.dtypes\n",
    "# we use astype to convert special character in int column"
   ]
  },
  {
   "cell_type": "code",
   "execution_count": 21,
   "id": "8e3ee072",
   "metadata": {},
   "outputs": [
    {
     "data": {
      "text/plain": [
       "gender              0.000000\n",
       "SeniorCitizen       0.000000\n",
       "Partner             0.000000\n",
       "Dependents          0.000000\n",
       "tenure              0.000000\n",
       "PhoneService        0.000000\n",
       "MultipleLines       0.000000\n",
       "InternetService     0.000000\n",
       "OnlineSecurity      0.000000\n",
       "OnlineBackup        0.000000\n",
       "DeviceProtection    0.000000\n",
       "TechSupport         0.000000\n",
       "StreamingTV         0.000000\n",
       "StreamingMovies     0.000000\n",
       "Contract            0.000000\n",
       "PaperlessBilling    0.000000\n",
       "PaymentMethod       0.000000\n",
       "MonthlyCharges      0.000000\n",
       "TotalCharges        0.156673\n",
       "Churn               0.000000\n",
       "dtype: float64"
      ]
     },
     "execution_count": 21,
     "metadata": {},
     "output_type": "execute_result"
    }
   ],
   "source": [
    "# to find the percentage of null values in each column in given dataset\n",
    "df.isnull().sum()/df.shape[0]*100"
   ]
  },
  {
   "cell_type": "code",
   "execution_count": 22,
   "id": "4355fb9c",
   "metadata": {},
   "outputs": [
    {
     "name": "stdout",
     "output_type": "stream",
     "text": [
      "Mean of normalized-losses :  2290.353388017122\n"
     ]
    }
   ],
   "source": [
    "#so first find the MEAN of TotalCharges column\n",
    "m=df[\"TotalCharges\"].mean()\n",
    "print(\"Mean of normalized-losses : \",m)"
   ]
  },
  {
   "cell_type": "code",
   "execution_count": 23,
   "id": "b7b09ef6",
   "metadata": {},
   "outputs": [],
   "source": [
    "# so fill null values permanently with MEAN of TotalCharges in TotalCharges column\n",
    "df['TotalCharges'].fillna(m,inplace=True)"
   ]
  },
  {
   "cell_type": "code",
   "execution_count": 24,
   "id": "2b57c22a",
   "metadata": {},
   "outputs": [
    {
     "data": {
      "text/plain": [
       "gender              0\n",
       "SeniorCitizen       0\n",
       "Partner             0\n",
       "Dependents          0\n",
       "tenure              0\n",
       "PhoneService        0\n",
       "MultipleLines       0\n",
       "InternetService     0\n",
       "OnlineSecurity      0\n",
       "OnlineBackup        0\n",
       "DeviceProtection    0\n",
       "TechSupport         0\n",
       "StreamingTV         0\n",
       "StreamingMovies     0\n",
       "Contract            0\n",
       "PaperlessBilling    0\n",
       "PaymentMethod       0\n",
       "MonthlyCharges      0\n",
       "TotalCharges        0\n",
       "Churn               0\n",
       "dtype: int64"
      ]
     },
     "execution_count": 24,
     "metadata": {},
     "output_type": "execute_result"
    }
   ],
   "source": [
    "#Again check null values\n",
    "df.isnull().sum()"
   ]
  },
  {
   "cell_type": "code",
   "execution_count": 25,
   "id": "1609d3f1",
   "metadata": {},
   "outputs": [
    {
     "data": {
      "image/png": "[encoded data removed]",
      "text/plain": [
       "<Figure size 432x288 with 2 Axes>"
      ]
     },
     "metadata": {
      "needs_background": "light"
     },
     "output_type": "display_data"
    }
   ],
   "source": [
    "# again check null values in totalcharges after filling it with mean\n",
    "sb.heatmap(df.isnull())\n",
    "plt.show()"
   ]
  },
  {
   "cell_type": "code",
   "execution_count": 26,
   "id": "6adee7b8",
   "metadata": {
    "scrolled": true
   },
   "outputs": [
    {
     "data": {
      "text/plain": [
       "gender               object\n",
       "SeniorCitizen         int64\n",
       "Partner              object\n",
       "Dependents           object\n",
       "tenure                int64\n",
       "PhoneService         object\n",
       "MultipleLines        object\n",
       "InternetService      object\n",
       "OnlineSecurity       object\n",
       "OnlineBackup         object\n",
       "DeviceProtection     object\n",
       "TechSupport          object\n",
       "StreamingTV          object\n",
       "StreamingMovies      object\n",
       "Contract             object\n",
       "PaperlessBilling     object\n",
       "PaymentMethod        object\n",
       "MonthlyCharges      float64\n",
       "TotalCharges        float64\n",
       "Churn                object\n",
       "dtype: object"
      ]
     },
     "execution_count": 26,
     "metadata": {},
     "output_type": "execute_result"
    }
   ],
   "source": [
    "\n",
    "df.dtypes"
   ]
  },
  {
   "cell_type": "code",
   "execution_count": 27,
   "id": "8dfcdccb",
   "metadata": {},
   "outputs": [
    {
     "data": {
      "text/html": [
       "<div>\n",
       "<style scoped>\n",
       "    .dataframe tbody tr th:only-of-type {\n",
       "        vertical-align: middle;\n",
       "    }\n",
       "\n",
       "    .dataframe tbody tr th {\n",
       "        vertical-align: top;\n",
       "    }\n",
       "\n",
       "    .dataframe thead th {\n",
       "        text-align: right;\n",
       "    }\n",
       "</style>\n",
       "<table border=\"1\" class=\"dataframe\">\n",
       "  <thead>\n",
       "    <tr style=\"text-align: right;\">\n",
       "      <th></th>\n",
       "      <th>gender</th>\n",
       "      <th>SeniorCitizen</th>\n",
       "      <th>Partner</th>\n",
       "      <th>Dependents</th>\n",
       "      <th>tenure</th>\n",
       "      <th>PhoneService</th>\n",
       "      <th>MultipleLines</th>\n",
       "      <th>InternetService</th>\n",
       "      <th>OnlineSecurity</th>\n",
       "      <th>OnlineBackup</th>\n",
       "      <th>DeviceProtection</th>\n",
       "      <th>TechSupport</th>\n",
       "      <th>StreamingTV</th>\n",
       "      <th>StreamingMovies</th>\n",
       "      <th>Contract</th>\n",
       "      <th>PaperlessBilling</th>\n",
       "      <th>PaymentMethod</th>\n",
       "      <th>MonthlyCharges</th>\n",
       "      <th>TotalCharges</th>\n",
       "      <th>Churn</th>\n",
       "    </tr>\n",
       "  </thead>\n",
       "  <tbody>\n",
       "    <tr>\n",
       "      <th>0</th>\n",
       "      <td>Female</td>\n",
       "      <td>0</td>\n",
       "      <td>Yes</td>\n",
       "      <td>No</td>\n",
       "      <td>1</td>\n",
       "      <td>No</td>\n",
       "      <td>No phone service</td>\n",
       "      <td>DSL</td>\n",
       "      <td>No</td>\n",
       "      <td>Yes</td>\n",
       "      <td>No</td>\n",
       "      <td>No</td>\n",
       "      <td>No</td>\n",
       "      <td>No</td>\n",
       "      <td>Month-to-month</td>\n",
       "      <td>Yes</td>\n",
       "      <td>Electronic check</td>\n",
       "      <td>29.85</td>\n",
       "      <td>29.85</td>\n",
       "      <td>No</td>\n",
       "    </tr>\n",
       "    <tr>\n",
       "      <th>1</th>\n",
       "      <td>Male</td>\n",
       "      <td>0</td>\n",
       "      <td>No</td>\n",
       "      <td>No</td>\n",
       "      <td>34</td>\n",
       "      <td>Yes</td>\n",
       "      <td>No</td>\n",
       "      <td>DSL</td>\n",
       "      <td>Yes</td>\n",
       "      <td>No</td>\n",
       "      <td>Yes</td>\n",
       "      <td>No</td>\n",
       "      <td>No</td>\n",
       "      <td>No</td>\n",
       "      <td>One year</td>\n",
       "      <td>No</td>\n",
       "      <td>Mailed check</td>\n",
       "      <td>56.95</td>\n",
       "      <td>1889.50</td>\n",
       "      <td>No</td>\n",
       "    </tr>\n",
       "    <tr>\n",
       "      <th>2</th>\n",
       "      <td>Male</td>\n",
       "      <td>0</td>\n",
       "      <td>No</td>\n",
       "      <td>No</td>\n",
       "      <td>2</td>\n",
       "      <td>Yes</td>\n",
       "      <td>No</td>\n",
       "      <td>DSL</td>\n",
       "      <td>Yes</td>\n",
       "      <td>Yes</td>\n",
       "      <td>No</td>\n",
       "      <td>No</td>\n",
       "      <td>No</td>\n",
       "      <td>No</td>\n",
       "      <td>Month-to-month</td>\n",
       "      <td>Yes</td>\n",
       "      <td>Mailed check</td>\n",
       "      <td>53.85</td>\n",
       "      <td>108.15</td>\n",
       "      <td>Yes</td>\n",
       "    </tr>\n",
       "    <tr>\n",
       "      <th>3</th>\n",
       "      <td>Male</td>\n",
       "      <td>0</td>\n",
       "      <td>No</td>\n",
       "      <td>No</td>\n",
       "      <td>45</td>\n",
       "      <td>No</td>\n",
       "      <td>No phone service</td>\n",
       "      <td>DSL</td>\n",
       "      <td>Yes</td>\n",
       "      <td>No</td>\n",
       "      <td>Yes</td>\n",
       "      <td>Yes</td>\n",
       "      <td>No</td>\n",
       "      <td>No</td>\n",
       "      <td>One year</td>\n",
       "      <td>No</td>\n",
       "      <td>Bank transfer (automatic)</td>\n",
       "      <td>42.30</td>\n",
       "      <td>1840.75</td>\n",
       "      <td>No</td>\n",
       "    </tr>\n",
       "    <tr>\n",
       "      <th>4</th>\n",
       "      <td>Female</td>\n",
       "      <td>0</td>\n",
       "      <td>No</td>\n",
       "      <td>No</td>\n",
       "      <td>2</td>\n",
       "      <td>Yes</td>\n",
       "      <td>No</td>\n",
       "      <td>Fiber optic</td>\n",
       "      <td>No</td>\n",
       "      <td>No</td>\n",
       "      <td>No</td>\n",
       "      <td>No</td>\n",
       "      <td>No</td>\n",
       "      <td>No</td>\n",
       "      <td>Month-to-month</td>\n",
       "      <td>Yes</td>\n",
       "      <td>Electronic check</td>\n",
       "      <td>70.70</td>\n",
       "      <td>151.65</td>\n",
       "      <td>Yes</td>\n",
       "    </tr>\n",
       "  </tbody>\n",
       "</table>\n",
       "</div>"
      ],
      "text/plain": [
       "   gender  SeniorCitizen Partner Dependents  tenure PhoneService  \\\n",
       "0  Female              0     Yes         No       1           No   \n",
       "1    Male              0      No         No      34          Yes   \n",
       "2    Male              0      No         No       2          Yes   \n",
       "3    Male              0      No         No      45           No   \n",
       "4  Female              0      No         No       2          Yes   \n",
       "\n",
       "      MultipleLines InternetService OnlineSecurity OnlineBackup  \\\n",
       "0  No phone service             DSL             No          Yes   \n",
       "1                No             DSL            Yes           No   \n",
       "2                No             DSL            Yes          Yes   \n",
       "3  No phone service             DSL            Yes           No   \n",
       "4                No     Fiber optic             No           No   \n",
       "\n",
       "  DeviceProtection TechSupport StreamingTV StreamingMovies        Contract  \\\n",
       "0               No          No          No              No  Month-to-month   \n",
       "1              Yes          No          No              No        One year   \n",
       "2               No          No          No              No  Month-to-month   \n",
       "3              Yes         Yes          No              No        One year   \n",
       "4               No          No          No              No  Month-to-month   \n",
       "\n",
       "  PaperlessBilling              PaymentMethod  MonthlyCharges  TotalCharges  \\\n",
       "0              Yes           Electronic check           29.85         29.85   \n",
       "1               No               Mailed check           56.95       1889.50   \n",
       "2              Yes               Mailed check           53.85        108.15   \n",
       "3               No  Bank transfer (automatic)           42.30       1840.75   \n",
       "4              Yes           Electronic check           70.70        151.65   \n",
       "\n",
       "  Churn  \n",
       "0    No  \n",
       "1    No  \n",
       "2   Yes  \n",
       "3    No  \n",
       "4   Yes  "
      ]
     },
     "execution_count": 27,
     "metadata": {},
     "output_type": "execute_result"
    }
   ],
   "source": [
    "df.head()"
   ]
  },
  {
   "cell_type": "code",
   "execution_count": 28,
   "id": "f51a45e9",
   "metadata": {},
   "outputs": [],
   "source": [
    "#separate numerical type column and object type column and store in new dataset\n",
    "df_num=df.select_dtypes([\"int64\",\"float64\"]) #hold to int and float type data \n",
    "df_cat=df.select_dtypes(object) #hold object type data"
   ]
  },
  {
   "cell_type": "code",
   "execution_count": 29,
   "id": "312cb309",
   "metadata": {},
   "outputs": [],
   "source": [
    "#change the object type data into numerical type then use LabelEncoder class\n",
    "from sklearn.preprocessing import LabelEncoder"
   ]
  },
  {
   "cell_type": "code",
   "execution_count": 30,
   "id": "575e373c",
   "metadata": {},
   "outputs": [],
   "source": [
    "for col in df_cat :\n",
    "    le=LabelEncoder() #create the object of LabelEncoder class\n",
    "    df_cat[col]=le.fit_transform(df_cat[col])"
   ]
  },
  {
   "cell_type": "code",
   "execution_count": 31,
   "id": "e1c9296c",
   "metadata": {},
   "outputs": [
    {
     "data": {
      "text/html": [
       "<div>\n",
       "<style scoped>\n",
       "    .dataframe tbody tr th:only-of-type {\n",
       "        vertical-align: middle;\n",
       "    }\n",
       "\n",
       "    .dataframe tbody tr th {\n",
       "        vertical-align: top;\n",
       "    }\n",
       "\n",
       "    .dataframe thead th {\n",
       "        text-align: right;\n",
       "    }\n",
       "</style>\n",
       "<table border=\"1\" class=\"dataframe\">\n",
       "  <thead>\n",
       "    <tr style=\"text-align: right;\">\n",
       "      <th></th>\n",
       "      <th>SeniorCitizen</th>\n",
       "      <th>tenure</th>\n",
       "      <th>MonthlyCharges</th>\n",
       "      <th>TotalCharges</th>\n",
       "      <th>gender</th>\n",
       "      <th>Partner</th>\n",
       "      <th>Dependents</th>\n",
       "      <th>PhoneService</th>\n",
       "      <th>MultipleLines</th>\n",
       "      <th>InternetService</th>\n",
       "      <th>OnlineSecurity</th>\n",
       "      <th>OnlineBackup</th>\n",
       "      <th>DeviceProtection</th>\n",
       "      <th>TechSupport</th>\n",
       "      <th>StreamingTV</th>\n",
       "      <th>StreamingMovies</th>\n",
       "      <th>Contract</th>\n",
       "      <th>PaperlessBilling</th>\n",
       "      <th>PaymentMethod</th>\n",
       "      <th>Churn</th>\n",
       "    </tr>\n",
       "  </thead>\n",
       "  <tbody>\n",
       "    <tr>\n",
       "      <th>0</th>\n",
       "      <td>0</td>\n",
       "      <td>1</td>\n",
       "      <td>29.85</td>\n",
       "      <td>29.85</td>\n",
       "      <td>0</td>\n",
       "      <td>1</td>\n",
       "      <td>0</td>\n",
       "      <td>0</td>\n",
       "      <td>1</td>\n",
       "      <td>0</td>\n",
       "      <td>0</td>\n",
       "      <td>2</td>\n",
       "      <td>0</td>\n",
       "      <td>0</td>\n",
       "      <td>0</td>\n",
       "      <td>0</td>\n",
       "      <td>0</td>\n",
       "      <td>1</td>\n",
       "      <td>2</td>\n",
       "      <td>0</td>\n",
       "    </tr>\n",
       "    <tr>\n",
       "      <th>1</th>\n",
       "      <td>0</td>\n",
       "      <td>34</td>\n",
       "      <td>56.95</td>\n",
       "      <td>1889.50</td>\n",
       "      <td>1</td>\n",
       "      <td>0</td>\n",
       "      <td>0</td>\n",
       "      <td>1</td>\n",
       "      <td>0</td>\n",
       "      <td>0</td>\n",
       "      <td>2</td>\n",
       "      <td>0</td>\n",
       "      <td>2</td>\n",
       "      <td>0</td>\n",
       "      <td>0</td>\n",
       "      <td>0</td>\n",
       "      <td>1</td>\n",
       "      <td>0</td>\n",
       "      <td>3</td>\n",
       "      <td>0</td>\n",
       "    </tr>\n",
       "    <tr>\n",
       "      <th>2</th>\n",
       "      <td>0</td>\n",
       "      <td>2</td>\n",
       "      <td>53.85</td>\n",
       "      <td>108.15</td>\n",
       "      <td>1</td>\n",
       "      <td>0</td>\n",
       "      <td>0</td>\n",
       "      <td>1</td>\n",
       "      <td>0</td>\n",
       "      <td>0</td>\n",
       "      <td>2</td>\n",
       "      <td>2</td>\n",
       "      <td>0</td>\n",
       "      <td>0</td>\n",
       "      <td>0</td>\n",
       "      <td>0</td>\n",
       "      <td>0</td>\n",
       "      <td>1</td>\n",
       "      <td>3</td>\n",
       "      <td>1</td>\n",
       "    </tr>\n",
       "    <tr>\n",
       "      <th>3</th>\n",
       "      <td>0</td>\n",
       "      <td>45</td>\n",
       "      <td>42.30</td>\n",
       "      <td>1840.75</td>\n",
       "      <td>1</td>\n",
       "      <td>0</td>\n",
       "      <td>0</td>\n",
       "      <td>0</td>\n",
       "      <td>1</td>\n",
       "      <td>0</td>\n",
       "      <td>2</td>\n",
       "      <td>0</td>\n",
       "      <td>2</td>\n",
       "      <td>2</td>\n",
       "      <td>0</td>\n",
       "      <td>0</td>\n",
       "      <td>1</td>\n",
       "      <td>0</td>\n",
       "      <td>0</td>\n",
       "      <td>0</td>\n",
       "    </tr>\n",
       "    <tr>\n",
       "      <th>4</th>\n",
       "      <td>0</td>\n",
       "      <td>2</td>\n",
       "      <td>70.70</td>\n",
       "      <td>151.65</td>\n",
       "      <td>0</td>\n",
       "      <td>0</td>\n",
       "      <td>0</td>\n",
       "      <td>1</td>\n",
       "      <td>0</td>\n",
       "      <td>1</td>\n",
       "      <td>0</td>\n",
       "      <td>0</td>\n",
       "      <td>0</td>\n",
       "      <td>0</td>\n",
       "      <td>0</td>\n",
       "      <td>0</td>\n",
       "      <td>0</td>\n",
       "      <td>1</td>\n",
       "      <td>2</td>\n",
       "      <td>1</td>\n",
       "    </tr>\n",
       "  </tbody>\n",
       "</table>\n",
       "</div>"
      ],
      "text/plain": [
       "   SeniorCitizen  tenure  MonthlyCharges  TotalCharges  gender  Partner  \\\n",
       "0              0       1           29.85         29.85       0        1   \n",
       "1              0      34           56.95       1889.50       1        0   \n",
       "2              0       2           53.85        108.15       1        0   \n",
       "3              0      45           42.30       1840.75       1        0   \n",
       "4              0       2           70.70        151.65       0        0   \n",
       "\n",
       "   Dependents  PhoneService  MultipleLines  InternetService  OnlineSecurity  \\\n",
       "0           0             0              1                0               0   \n",
       "1           0             1              0                0               2   \n",
       "2           0             1              0                0               2   \n",
       "3           0             0              1                0               2   \n",
       "4           0             1              0                1               0   \n",
       "\n",
       "   OnlineBackup  DeviceProtection  TechSupport  StreamingTV  StreamingMovies  \\\n",
       "0             2                 0            0            0                0   \n",
       "1             0                 2            0            0                0   \n",
       "2             2                 0            0            0                0   \n",
       "3             0                 2            2            0                0   \n",
       "4             0                 0            0            0                0   \n",
       "\n",
       "   Contract  PaperlessBilling  PaymentMethod  Churn  \n",
       "0         0                 1              2      0  \n",
       "1         1                 0              3      0  \n",
       "2         0                 1              3      1  \n",
       "3         1                 0              0      0  \n",
       "4         0                 1              2      1  "
      ]
     },
     "execution_count": 31,
     "metadata": {},
     "output_type": "execute_result"
    }
   ],
   "source": [
    "#concatenation of both dataset df_num and df_cat and hold new dataset df_new\n",
    "df_new=pd.concat([df_num,df_cat],axis=1) #axis=1 column wise\n",
    "df_new.head()"
   ]
  },
  {
   "cell_type": "code",
   "execution_count": 32,
   "id": "df77e6e8",
   "metadata": {},
   "outputs": [],
   "source": [
    "# select input and output\n",
    "X=df_new.drop('Churn',axis=1) # left to right hai isiliye axis 1, # select input\n",
    "Y=df_new['Churn'] # select output"
   ]
  },
  {
   "cell_type": "code",
   "execution_count": 33,
   "id": "10dc6dc1",
   "metadata": {},
   "outputs": [
    {
     "data": {
      "text/html": [
       "<div>\n",
       "<style scoped>\n",
       "    .dataframe tbody tr th:only-of-type {\n",
       "        vertical-align: middle;\n",
       "    }\n",
       "\n",
       "    .dataframe tbody tr th {\n",
       "        vertical-align: top;\n",
       "    }\n",
       "\n",
       "    .dataframe thead th {\n",
       "        text-align: right;\n",
       "    }\n",
       "</style>\n",
       "<table border=\"1\" class=\"dataframe\">\n",
       "  <thead>\n",
       "    <tr style=\"text-align: right;\">\n",
       "      <th></th>\n",
       "      <th>SeniorCitizen</th>\n",
       "      <th>tenure</th>\n",
       "      <th>MonthlyCharges</th>\n",
       "      <th>TotalCharges</th>\n",
       "      <th>gender</th>\n",
       "      <th>Partner</th>\n",
       "      <th>Dependents</th>\n",
       "      <th>PhoneService</th>\n",
       "      <th>MultipleLines</th>\n",
       "      <th>InternetService</th>\n",
       "      <th>OnlineSecurity</th>\n",
       "      <th>OnlineBackup</th>\n",
       "      <th>DeviceProtection</th>\n",
       "      <th>TechSupport</th>\n",
       "      <th>StreamingTV</th>\n",
       "      <th>StreamingMovies</th>\n",
       "      <th>Contract</th>\n",
       "      <th>PaperlessBilling</th>\n",
       "      <th>PaymentMethod</th>\n",
       "    </tr>\n",
       "  </thead>\n",
       "  <tbody>\n",
       "    <tr>\n",
       "      <th>0</th>\n",
       "      <td>0</td>\n",
       "      <td>1</td>\n",
       "      <td>29.85</td>\n",
       "      <td>29.85</td>\n",
       "      <td>0</td>\n",
       "      <td>1</td>\n",
       "      <td>0</td>\n",
       "      <td>0</td>\n",
       "      <td>1</td>\n",
       "      <td>0</td>\n",
       "      <td>0</td>\n",
       "      <td>2</td>\n",
       "      <td>0</td>\n",
       "      <td>0</td>\n",
       "      <td>0</td>\n",
       "      <td>0</td>\n",
       "      <td>0</td>\n",
       "      <td>1</td>\n",
       "      <td>2</td>\n",
       "    </tr>\n",
       "    <tr>\n",
       "      <th>1</th>\n",
       "      <td>0</td>\n",
       "      <td>34</td>\n",
       "      <td>56.95</td>\n",
       "      <td>1889.50</td>\n",
       "      <td>1</td>\n",
       "      <td>0</td>\n",
       "      <td>0</td>\n",
       "      <td>1</td>\n",
       "      <td>0</td>\n",
       "      <td>0</td>\n",
       "      <td>2</td>\n",
       "      <td>0</td>\n",
       "      <td>2</td>\n",
       "      <td>0</td>\n",
       "      <td>0</td>\n",
       "      <td>0</td>\n",
       "      <td>1</td>\n",
       "      <td>0</td>\n",
       "      <td>3</td>\n",
       "    </tr>\n",
       "    <tr>\n",
       "      <th>2</th>\n",
       "      <td>0</td>\n",
       "      <td>2</td>\n",
       "      <td>53.85</td>\n",
       "      <td>108.15</td>\n",
       "      <td>1</td>\n",
       "      <td>0</td>\n",
       "      <td>0</td>\n",
       "      <td>1</td>\n",
       "      <td>0</td>\n",
       "      <td>0</td>\n",
       "      <td>2</td>\n",
       "      <td>2</td>\n",
       "      <td>0</td>\n",
       "      <td>0</td>\n",
       "      <td>0</td>\n",
       "      <td>0</td>\n",
       "      <td>0</td>\n",
       "      <td>1</td>\n",
       "      <td>3</td>\n",
       "    </tr>\n",
       "    <tr>\n",
       "      <th>3</th>\n",
       "      <td>0</td>\n",
       "      <td>45</td>\n",
       "      <td>42.30</td>\n",
       "      <td>1840.75</td>\n",
       "      <td>1</td>\n",
       "      <td>0</td>\n",
       "      <td>0</td>\n",
       "      <td>0</td>\n",
       "      <td>1</td>\n",
       "      <td>0</td>\n",
       "      <td>2</td>\n",
       "      <td>0</td>\n",
       "      <td>2</td>\n",
       "      <td>2</td>\n",
       "      <td>0</td>\n",
       "      <td>0</td>\n",
       "      <td>1</td>\n",
       "      <td>0</td>\n",
       "      <td>0</td>\n",
       "    </tr>\n",
       "    <tr>\n",
       "      <th>4</th>\n",
       "      <td>0</td>\n",
       "      <td>2</td>\n",
       "      <td>70.70</td>\n",
       "      <td>151.65</td>\n",
       "      <td>0</td>\n",
       "      <td>0</td>\n",
       "      <td>0</td>\n",
       "      <td>1</td>\n",
       "      <td>0</td>\n",
       "      <td>1</td>\n",
       "      <td>0</td>\n",
       "      <td>0</td>\n",
       "      <td>0</td>\n",
       "      <td>0</td>\n",
       "      <td>0</td>\n",
       "      <td>0</td>\n",
       "      <td>0</td>\n",
       "      <td>1</td>\n",
       "      <td>2</td>\n",
       "    </tr>\n",
       "  </tbody>\n",
       "</table>\n",
       "</div>"
      ],
      "text/plain": [
       "   SeniorCitizen  tenure  MonthlyCharges  TotalCharges  gender  Partner  \\\n",
       "0              0       1           29.85         29.85       0        1   \n",
       "1              0      34           56.95       1889.50       1        0   \n",
       "2              0       2           53.85        108.15       1        0   \n",
       "3              0      45           42.30       1840.75       1        0   \n",
       "4              0       2           70.70        151.65       0        0   \n",
       "\n",
       "   Dependents  PhoneService  MultipleLines  InternetService  OnlineSecurity  \\\n",
       "0           0             0              1                0               0   \n",
       "1           0             1              0                0               2   \n",
       "2           0             1              0                0               2   \n",
       "3           0             0              1                0               2   \n",
       "4           0             1              0                1               0   \n",
       "\n",
       "   OnlineBackup  DeviceProtection  TechSupport  StreamingTV  StreamingMovies  \\\n",
       "0             2                 0            0            0                0   \n",
       "1             0                 2            0            0                0   \n",
       "2             2                 0            0            0                0   \n",
       "3             0                 2            2            0                0   \n",
       "4             0                 0            0            0                0   \n",
       "\n",
       "   Contract  PaperlessBilling  PaymentMethod  \n",
       "0         0                 1              2  \n",
       "1         1                 0              3  \n",
       "2         0                 1              3  \n",
       "3         1                 0              0  \n",
       "4         0                 1              2  "
      ]
     },
     "execution_count": 33,
     "metadata": {},
     "output_type": "execute_result"
    }
   ],
   "source": [
    "X.head() #inputs / features"
   ]
  },
  {
   "cell_type": "code",
   "execution_count": 34,
   "id": "ddb01b4a",
   "metadata": {},
   "outputs": [
    {
     "data": {
      "text/plain": [
       "0    0\n",
       "1    0\n",
       "2    1\n",
       "3    0\n",
       "4    1\n",
       "Name: Churn, dtype: int32"
      ]
     },
     "execution_count": 34,
     "metadata": {},
     "output_type": "execute_result"
    }
   ],
   "source": [
    "Y.head() # output"
   ]
  },
  {
   "cell_type": "code",
   "execution_count": 35,
   "id": "ad8dbdd0",
   "metadata": {},
   "outputs": [
    {
     "data": {
      "text/plain": [
       "array([0, 1])"
      ]
     },
     "execution_count": 35,
     "metadata": {},
     "output_type": "execute_result"
    }
   ],
   "source": [
    "#To see how many categories in churn column\n",
    "df_new['Churn'].unique()"
   ]
  },
  {
   "cell_type": "code",
   "execution_count": 36,
   "id": "3732b9d4",
   "metadata": {},
   "outputs": [
    {
     "data": {
      "text/plain": [
       "0    5164\n",
       "1    1857\n",
       "Name: Churn, dtype: int64"
      ]
     },
     "execution_count": 36,
     "metadata": {},
     "output_type": "execute_result"
    }
   ],
   "source": [
    "#To see the values in respective category\n",
    "df_new['Churn'].value_counts()"
   ]
  },
  {
   "cell_type": "code",
   "execution_count": 37,
   "id": "d1063705",
   "metadata": {},
   "outputs": [
    {
     "data": {
      "image/png": "[encoded data removed]",
      "text/plain": [
       "<Figure size 432x288 with 1 Axes>"
      ]
     },
     "metadata": {
      "needs_background": "light"
     },
     "output_type": "display_data"
    }
   ],
   "source": [
    "# visualize\n",
    "sb.countplot(data=df,x='Churn')\n",
    "f=df['Churn'].value_counts()\n",
    "plt.yticks(f)\n",
    "plt.show()"
   ]
  },
  {
   "cell_type": "code",
   "execution_count": 38,
   "id": "e1f5d942",
   "metadata": {},
   "outputs": [],
   "source": [
    "# train the model with 70% data and test the model with 30% data\n",
    "from sklearn.model_selection import train_test_split\n",
    "X_train,X_test,Y_train,Y_test=train_test_split(X,Y,test_size=0.3,random_state=1)"
   ]
  },
  {
   "cell_type": "code",
   "execution_count": 39,
   "id": "4a304024",
   "metadata": {},
   "outputs": [
    {
     "data": {
      "text/plain": [
       "((4914, 19), (2107, 19))"
      ]
     },
     "execution_count": 39,
     "metadata": {},
     "output_type": "execute_result"
    }
   ],
   "source": [
    "X_train.shape,X_test.shape #(70% in train, 30% in test)"
   ]
  },
  {
   "cell_type": "code",
   "execution_count": 40,
   "id": "549e56cf",
   "metadata": {},
   "outputs": [
    {
     "data": {
      "text/plain": [
       "((4914,), (2107,))"
      ]
     },
     "execution_count": 40,
     "metadata": {},
     "output_type": "execute_result"
    }
   ],
   "source": [
    "Y_train.shape,Y_test.shape # (70% in train, 30% in test)(nothing after comma means there is only one column)"
   ]
  },
  {
   "cell_type": "code",
   "execution_count": 41,
   "id": "02645318",
   "metadata": {},
   "outputs": [
    {
     "data": {
      "text/plain": [
       "(7021, 20)"
      ]
     },
     "execution_count": 41,
     "metadata": {},
     "output_type": "execute_result"
    }
   ],
   "source": [
    "df_new.shape"
   ]
  },
  {
   "cell_type": "code",
   "execution_count": 42,
   "id": "d4098616",
   "metadata": {},
   "outputs": [],
   "source": [
    "# apply standard scaler on X_train and X_test\n",
    "from sklearn.preprocessing import StandardScaler\n",
    "\n",
    "# create an object of StandardScaler class as alias ss\n",
    "ss=StandardScaler()"
   ]
  },
  {
   "cell_type": "code",
   "execution_count": 43,
   "id": "c58ae8c1",
   "metadata": {},
   "outputs": [],
   "source": [
    "#train permanently with 70% data\n",
    "X_train=ss.fit_transform(X_train)\n",
    "\n",
    "# test with 30% data\n",
    "X_test=ss.transform(X_test)"
   ]
  },
  {
   "cell_type": "code",
   "execution_count": 44,
   "id": "2931f1a7",
   "metadata": {
    "scrolled": true
   },
   "outputs": [
    {
     "data": {
      "text/plain": [
       "array([[-0.4472136 ,  1.08344626,  1.04927586, ..., -0.83211942,\n",
       "         0.8274101 , -1.47874454],\n",
       "       [ 2.23606798,  0.96091335,  0.39043418, ..., -0.83211942,\n",
       "         0.8274101 , -1.47874454],\n",
       "       [-0.4472136 ,  0.3482488 ,  0.17082029, ..., -0.83211942,\n",
       "        -1.20859052, -1.47874454],\n",
       "       ...,\n",
       "       [-0.4472136 , -0.99961321, -0.88565564, ..., -0.83211942,\n",
       "         0.8274101 ,  0.39867457],\n",
       "       [-0.4472136 , -1.24467903, -0.35658581, ..., -0.83211942,\n",
       "         0.8274101 ,  1.33738413],\n",
       "       [-0.4472136 , -0.9587689 ,  0.52186977, ..., -0.83211942,\n",
       "         0.8274101 ,  0.39867457]])"
      ]
     },
     "execution_count": 44,
     "metadata": {},
     "output_type": "execute_result"
    }
   ],
   "source": [
    "X_train"
   ]
  },
  {
   "cell_type": "code",
   "execution_count": 45,
   "id": "48e4566c",
   "metadata": {},
   "outputs": [],
   "source": [
    "#To import classification_report and confusion_report\n",
    "from sklearn.metrics import classification_report,confusion_matrix\n"
   ]
  },
  {
   "cell_type": "code",
   "execution_count": 46,
   "id": "225fb55f",
   "metadata": {},
   "outputs": [],
   "source": [
    "# perform the model with the help of LogisticRegression Algorithm\n",
    "from sklearn.linear_model import LogisticRegression\n",
    "\n",
    "# create object of LogisticRegression class as alias lr\n",
    "lr=LogisticRegression()"
   ]
  },
  {
   "cell_type": "code",
   "execution_count": 47,
   "id": "c6d1151f",
   "metadata": {},
   "outputs": [],
   "source": [
    "# Create function\n",
    "\n",
    "def combo(model):\n",
    "    \n",
    "    # to train the model\n",
    "    model.fit(X_train,Y_train)\n",
    "    \n",
    "    # to test the model\n",
    "    Y_pred=model.predict(X_test)\n",
    "    \n",
    "    # To print classification reports and confusion matrix\n",
    "    print (classification_report(Y_test,Y_pred))\n",
    "    print (confusion_matrix(Y_test,Y_pred))\n",
    "    \n",
    "    return model"
   ]
  },
  {
   "cell_type": "code",
   "execution_count": 48,
   "id": "5778914d",
   "metadata": {},
   "outputs": [
    {
     "name": "stdout",
     "output_type": "stream",
     "text": [
      "              precision    recall  f1-score   support\n",
      "\n",
      "           0       0.86      0.89      0.88      1582\n",
      "           1       0.64      0.58      0.61       525\n",
      "\n",
      "    accuracy                           0.81      2107\n",
      "   macro avg       0.75      0.74      0.74      2107\n",
      "weighted avg       0.81      0.81      0.81      2107\n",
      "\n",
      "[[1413  169]\n",
      " [ 222  303]]\n"
     ]
    }
   ],
   "source": [
    "# call function and passing the object of logisticRegression class\n",
    "lr=combo(lr)"
   ]
  },
  {
   "cell_type": "code",
   "execution_count": 49,
   "id": "dde5f9a5",
   "metadata": {},
   "outputs": [
    {
     "data": {
      "text/plain": [
       "0    5164\n",
       "1    1857\n",
       "Name: Churn, dtype: int64"
      ]
     },
     "execution_count": 49,
     "metadata": {},
     "output_type": "execute_result"
    }
   ],
   "source": [
    "# the value of the two category difference should not be more than half, if there is such difference then it is unbalance data.\n",
    "#Here We saw , more score difference between 0 and 1 class ,behind this reason :\n",
    "#1. can be  Data Imbalance\n",
    "# first check either data (output variable) is imbalance or not ?\n",
    "df_new['Churn'].value_counts() # to check how many 0's and 1's"
   ]
  },
  {
   "cell_type": "code",
   "execution_count": 50,
   "id": "23a85920",
   "metadata": {},
   "outputs": [
    {
     "data": {
      "image/png": "[encoded data removed]",
      "text/plain": [
       "<Figure size 432x288 with 1 Axes>"
      ]
     },
     "metadata": {
      "needs_background": "light"
     },
     "output_type": "display_data"
    }
   ],
   "source": [
    "# also visualize to check imbalance in data we use countplot\n",
    "\n",
    "sb.countplot(data=df_new,x='Churn')\n",
    "f=df_new['Churn'].value_counts()\n",
    "plt.yticks(f)\n",
    "plt.show()"
   ]
  },
  {
   "cell_type": "code",
   "execution_count": 51,
   "id": "0b04aff8",
   "metadata": {},
   "outputs": [],
   "source": [
    "#Sampling Technique :\n",
    "# first RandomOverSampler :\n",
    "# call \n",
    "from imblearn.over_sampling import RandomOverSampler"
   ]
  },
  {
   "cell_type": "code",
   "execution_count": 52,
   "id": "f5bd668d",
   "metadata": {},
   "outputs": [
    {
     "data": {
      "text/plain": [
       "((4914, 19), (4914,))"
      ]
     },
     "execution_count": 52,
     "metadata": {},
     "output_type": "execute_result"
    }
   ],
   "source": [
    "X_train.shape,Y_train.shape"
   ]
  },
  {
   "cell_type": "code",
   "execution_count": 53,
   "id": "2baad7f3",
   "metadata": {},
   "outputs": [
    {
     "data": {
      "text/plain": [
       "0    3582\n",
       "1    1332\n",
       "Name: Churn, dtype: int64"
      ]
     },
     "execution_count": 53,
     "metadata": {},
     "output_type": "execute_result"
    }
   ],
   "source": [
    "Y_train.value_counts() # difference is more than double"
   ]
  },
  {
   "cell_type": "code",
   "execution_count": 54,
   "id": "bfd3d224",
   "metadata": {},
   "outputs": [],
   "source": [
    "# to convert minority class(1) data into majority class(0), \n",
    "# we use RandomOverSampler class\n",
    "# create a object of RandomOverSampler class as alias ros\n",
    "ros=RandomOverSampler(random_state=1) "
   ]
  },
  {
   "cell_type": "code",
   "execution_count": 55,
   "id": "5bd2c552",
   "metadata": {},
   "outputs": [],
   "source": [
    "# applying RandomOverSampler on training data X_train, Y_train\n",
    "\n",
    "X_train_ros,Y_train_ros=ros.fit_resample(X_train,Y_train)"
   ]
  },
  {
   "cell_type": "code",
   "execution_count": 56,
   "id": "0401ccb5",
   "metadata": {},
   "outputs": [
    {
     "data": {
      "text/plain": [
       "0    3582\n",
       "1    3582\n",
       "Name: Churn, dtype: int64"
      ]
     },
     "execution_count": 56,
     "metadata": {},
     "output_type": "execute_result"
    }
   ],
   "source": [
    "# check after applying oversampler\n",
    "Y_train_ros.value_counts()"
   ]
  },
  {
   "cell_type": "code",
   "execution_count": 57,
   "id": "e7fdf17d",
   "metadata": {},
   "outputs": [
    {
     "data": {
      "text/plain": [
       "((7164, 19), (7164,))"
      ]
     },
     "execution_count": 57,
     "metadata": {},
     "output_type": "execute_result"
    }
   ],
   "source": [
    "X_train_ros.shape,Y_train_ros.shape"
   ]
  },
  {
   "cell_type": "code",
   "execution_count": 58,
   "id": "458f8927",
   "metadata": {},
   "outputs": [
    {
     "data": {
      "text/plain": [
       "0    1582\n",
       "1     525\n",
       "Name: Churn, dtype: int64"
      ]
     },
     "execution_count": 58,
     "metadata": {},
     "output_type": "execute_result"
    }
   ],
   "source": [
    "# similarly apply over_sampler  on testing data (30%)\n",
    "# first check number of samples 0's and 1's in input variable\n",
    "\n",
    "Y_test.value_counts()"
   ]
  },
  {
   "cell_type": "code",
   "execution_count": 59,
   "id": "0bbe7d0c",
   "metadata": {},
   "outputs": [],
   "source": [
    "# now apply over sampler on testing data to do balance\n",
    "X_test_ros,Y_test_ros=ros.fit_resample(X_test,Y_test)"
   ]
  },
  {
   "cell_type": "code",
   "execution_count": 60,
   "id": "16c02d95",
   "metadata": {},
   "outputs": [
    {
     "data": {
      "text/plain": [
       "0    1582\n",
       "1    1582\n",
       "Name: Churn, dtype: int64"
      ]
     },
     "execution_count": 60,
     "metadata": {},
     "output_type": "execute_result"
    }
   ],
   "source": [
    "# now check apter applying oversampler on testing data\n",
    "Y_test_ros.value_counts()"
   ]
  },
  {
   "cell_type": "code",
   "execution_count": 61,
   "id": "acf852bd",
   "metadata": {},
   "outputs": [
    {
     "data": {
      "text/plain": [
       "((3164, 19), (3164,))"
      ]
     },
     "execution_count": 61,
     "metadata": {},
     "output_type": "execute_result"
    }
   ],
   "source": [
    "X_test_ros.shape,Y_test_ros.shape"
   ]
  },
  {
   "cell_type": "code",
   "execution_count": 62,
   "id": "8b34341b",
   "metadata": {},
   "outputs": [
    {
     "data": {
      "text/plain": [
       "((7164, 19), (7164,))"
      ]
     },
     "execution_count": 62,
     "metadata": {},
     "output_type": "execute_result"
    }
   ],
   "source": [
    "X_train_ros.shape,Y_train_ros.shape"
   ]
  },
  {
   "cell_type": "code",
   "execution_count": 63,
   "id": "3566cf54",
   "metadata": {},
   "outputs": [],
   "source": [
    "\n",
    "# Create function\n",
    "\n",
    "def final_combo(model):\n",
    "    \n",
    "    # to train the model\n",
    "    model.fit(X_train_ros,Y_train_ros)\n",
    "    \n",
    "    # to test the model\n",
    "    Y_pred=model.predict(X_test_ros)\n",
    "    \n",
    "    # To print classification reports and confusion matrix\n",
    "    print (classification_report(Y_test_ros,Y_pred))\n",
    "    print (confusion_matrix(Y_test_ros,Y_pred))\n",
    "    \n",
    "    return model"
   ]
  },
  {
   "cell_type": "code",
   "execution_count": 64,
   "id": "dc6aae9c",
   "metadata": {},
   "outputs": [
    {
     "name": "stdout",
     "output_type": "stream",
     "text": [
      "              precision    recall  f1-score   support\n",
      "\n",
      "           0       0.79      0.72      0.75      1582\n",
      "           1       0.74      0.81      0.77      1582\n",
      "\n",
      "    accuracy                           0.76      3164\n",
      "   macro avg       0.77      0.76      0.76      3164\n",
      "weighted avg       0.77      0.76      0.76      3164\n",
      "\n",
      "[[1138  444]\n",
      " [ 301 1281]]\n"
     ]
    }
   ],
   "source": [
    "# Now giving this balanced output values to function\n",
    "# call function and passing the object of logisticRegression class\n",
    "lr=final_combo(lr)"
   ]
  },
  {
   "cell_type": "code",
   "execution_count": 65,
   "id": "6c452ca6",
   "metadata": {},
   "outputs": [],
   "source": [
    "#Here score is good but not better . can be better ,for apply \n",
    "# DecisionTreeClassifier class  , bcoz DTC help to select imp input features\n",
    "#with the help of Gini Index or Entropy \n",
    "#perform dataset with the help of DecisionTreeClassifier \n",
    "#call DecisionTreeClassifier class\n",
    "# now perform model with DECISION TREE CLASSIFIER\n",
    "from sklearn.tree import DecisionTreeClassifier"
   ]
  },
  {
   "cell_type": "code",
   "execution_count": 66,
   "id": "f50f6bd8",
   "metadata": {},
   "outputs": [],
   "source": [
    "# create object of DecisionTreeClassifier class as dt\n",
    "dt=DecisionTreeClassifier(random_state=1) # by default gini index method"
   ]
  },
  {
   "cell_type": "code",
   "execution_count": 67,
   "id": "3204ff33",
   "metadata": {},
   "outputs": [
    {
     "name": "stdout",
     "output_type": "stream",
     "text": [
      "              precision    recall  f1-score   support\n",
      "\n",
      "           0       0.62      0.82      0.71      1582\n",
      "           1       0.73      0.50      0.59      1582\n",
      "\n",
      "    accuracy                           0.66      3164\n",
      "   macro avg       0.68      0.66      0.65      3164\n",
      "weighted avg       0.68      0.66      0.65      3164\n",
      "\n",
      "[[1297  285]\n",
      " [ 796  786]]\n"
     ]
    }
   ],
   "source": [
    "# call function create_model and pass the object of DecisionTreeClassifier class as dt\n",
    "dt=final_combo(dt)"
   ]
  },
  {
   "cell_type": "code",
   "execution_count": 68,
   "id": "4a840a60",
   "metadata": {},
   "outputs": [
    {
     "data": {
      "text/html": [
       "<div>\n",
       "<style scoped>\n",
       "    .dataframe tbody tr th:only-of-type {\n",
       "        vertical-align: middle;\n",
       "    }\n",
       "\n",
       "    .dataframe tbody tr th {\n",
       "        vertical-align: top;\n",
       "    }\n",
       "\n",
       "    .dataframe thead th {\n",
       "        text-align: right;\n",
       "    }\n",
       "</style>\n",
       "<table border=\"1\" class=\"dataframe\">\n",
       "  <thead>\n",
       "    <tr style=\"text-align: right;\">\n",
       "      <th></th>\n",
       "      <th>Input</th>\n",
       "      <th>Info Gain</th>\n",
       "    </tr>\n",
       "  </thead>\n",
       "  <tbody>\n",
       "    <tr>\n",
       "      <th>0</th>\n",
       "      <td>Contract</td>\n",
       "      <td>0.244379</td>\n",
       "    </tr>\n",
       "    <tr>\n",
       "      <th>1</th>\n",
       "      <td>MonthlyCharges</td>\n",
       "      <td>0.198958</td>\n",
       "    </tr>\n",
       "    <tr>\n",
       "      <th>2</th>\n",
       "      <td>TotalCharges</td>\n",
       "      <td>0.170931</td>\n",
       "    </tr>\n",
       "    <tr>\n",
       "      <th>3</th>\n",
       "      <td>tenure</td>\n",
       "      <td>0.102704</td>\n",
       "    </tr>\n",
       "    <tr>\n",
       "      <th>4</th>\n",
       "      <td>PaymentMethod</td>\n",
       "      <td>0.040119</td>\n",
       "    </tr>\n",
       "    <tr>\n",
       "      <th>5</th>\n",
       "      <td>OnlineSecurity</td>\n",
       "      <td>0.038087</td>\n",
       "    </tr>\n",
       "    <tr>\n",
       "      <th>6</th>\n",
       "      <td>gender</td>\n",
       "      <td>0.025797</td>\n",
       "    </tr>\n",
       "    <tr>\n",
       "      <th>7</th>\n",
       "      <td>StreamingMovies</td>\n",
       "      <td>0.021134</td>\n",
       "    </tr>\n",
       "    <tr>\n",
       "      <th>8</th>\n",
       "      <td>SeniorCitizen</td>\n",
       "      <td>0.019403</td>\n",
       "    </tr>\n",
       "    <tr>\n",
       "      <th>9</th>\n",
       "      <td>PaperlessBilling</td>\n",
       "      <td>0.018836</td>\n",
       "    </tr>\n",
       "    <tr>\n",
       "      <th>10</th>\n",
       "      <td>OnlineBackup</td>\n",
       "      <td>0.018670</td>\n",
       "    </tr>\n",
       "    <tr>\n",
       "      <th>11</th>\n",
       "      <td>MultipleLines</td>\n",
       "      <td>0.018327</td>\n",
       "    </tr>\n",
       "    <tr>\n",
       "      <th>12</th>\n",
       "      <td>Partner</td>\n",
       "      <td>0.017625</td>\n",
       "    </tr>\n",
       "    <tr>\n",
       "      <th>13</th>\n",
       "      <td>Dependents</td>\n",
       "      <td>0.016379</td>\n",
       "    </tr>\n",
       "    <tr>\n",
       "      <th>14</th>\n",
       "      <td>InternetService</td>\n",
       "      <td>0.014807</td>\n",
       "    </tr>\n",
       "    <tr>\n",
       "      <th>15</th>\n",
       "      <td>DeviceProtection</td>\n",
       "      <td>0.013278</td>\n",
       "    </tr>\n",
       "    <tr>\n",
       "      <th>16</th>\n",
       "      <td>TechSupport</td>\n",
       "      <td>0.009286</td>\n",
       "    </tr>\n",
       "    <tr>\n",
       "      <th>17</th>\n",
       "      <td>StreamingTV</td>\n",
       "      <td>0.007512</td>\n",
       "    </tr>\n",
       "    <tr>\n",
       "      <th>18</th>\n",
       "      <td>PhoneService</td>\n",
       "      <td>0.003769</td>\n",
       "    </tr>\n",
       "  </tbody>\n",
       "</table>\n",
       "</div>"
      ],
      "text/plain": [
       "               Input  Info Gain\n",
       "0           Contract   0.244379\n",
       "1     MonthlyCharges   0.198958\n",
       "2       TotalCharges   0.170931\n",
       "3             tenure   0.102704\n",
       "4      PaymentMethod   0.040119\n",
       "5     OnlineSecurity   0.038087\n",
       "6             gender   0.025797\n",
       "7    StreamingMovies   0.021134\n",
       "8      SeniorCitizen   0.019403\n",
       "9   PaperlessBilling   0.018836\n",
       "10      OnlineBackup   0.018670\n",
       "11     MultipleLines   0.018327\n",
       "12           Partner   0.017625\n",
       "13        Dependents   0.016379\n",
       "14   InternetService   0.014807\n",
       "15  DeviceProtection   0.013278\n",
       "16       TechSupport   0.009286\n",
       "17       StreamingTV   0.007512\n",
       "18      PhoneService   0.003769"
      ]
     },
     "execution_count": 68,
     "metadata": {},
     "output_type": "execute_result"
    }
   ],
   "source": [
    "# create a dictionary for dataset\n",
    "d={'Input':X.columns,'Info Gain':dt.feature_importances_}\n",
    "# check important features means check information of each input after train\n",
    "\n",
    "# now convert into dataframe\n",
    "F=pd.DataFrame(d)\n",
    "F.sort_values('Info Gain',ascending=False,ignore_index=True)\n",
    "# sorting : means arrange records in descending order according to IG column \n",
    "#and ignore index number"
   ]
  },
  {
   "cell_type": "code",
   "execution_count": 69,
   "id": "f0f011ea",
   "metadata": {},
   "outputs": [],
   "source": [
    "#But we got less score 0.77 % its good but not excellent , \n",
    "#reason behind less score , overfit means \n",
    "#model is overfit so reduced the overfitting situation : - \n",
    "#then we use pruning technique\n",
    "\n",
    "#How to reduced a overfitting situation By using the Pruning technique : -\n",
    "#There are 2 types of pruning technique : -\n",
    "#1. max_depth : inbulit parameter\n",
    "#2. min_samples_leaf  : inbuilt parameter"
   ]
  },
  {
   "cell_type": "code",
   "execution_count": 70,
   "id": "df5d8766",
   "metadata": {},
   "outputs": [
    {
     "name": "stdout",
     "output_type": "stream",
     "text": [
      "              precision    recall  f1-score   support\n",
      "\n",
      "           0       0.78      0.71      0.74      1582\n",
      "           1       0.73      0.80      0.76      1582\n",
      "\n",
      "    accuracy                           0.75      3164\n",
      "   macro avg       0.76      0.75      0.75      3164\n",
      "weighted avg       0.76      0.75      0.75      3164\n",
      "\n",
      "[[1124  458]\n",
      " [ 321 1261]]\n"
     ]
    }
   ],
   "source": [
    "#to remove overfitting situation, Use Pruning Technique\n",
    "# There are two types Pruning Technique\n",
    "#1) max_depth : inbuilt parameter of DecisionTreeClassifier ( maximum depth <= 8 )\n",
    "\n",
    "'''\n",
    "for i in range (1,9):\n",
    "    dt1=DecisionTreeClassifier(random_state=1,max_depth=i)\n",
    "    print(\"Number of max_dpeth:\",i)\n",
    "    #Give it to the function\n",
    "    dt1=final_combo(dt1)\n",
    "    dt1\n",
    "'''\n",
    "\n",
    "dt1=DecisionTreeClassifier(random_state=1,max_depth=4) # by default Gini index\n",
    "dt1=final_combo(dt1)"
   ]
  },
  {
   "cell_type": "code",
   "execution_count": 71,
   "id": "e72bb511",
   "metadata": {},
   "outputs": [
    {
     "data": {
      "text/html": [
       "<div>\n",
       "<style scoped>\n",
       "    .dataframe tbody tr th:only-of-type {\n",
       "        vertical-align: middle;\n",
       "    }\n",
       "\n",
       "    .dataframe tbody tr th {\n",
       "        vertical-align: top;\n",
       "    }\n",
       "\n",
       "    .dataframe thead th {\n",
       "        text-align: right;\n",
       "    }\n",
       "</style>\n",
       "<table border=\"1\" class=\"dataframe\">\n",
       "  <thead>\n",
       "    <tr style=\"text-align: right;\">\n",
       "      <th></th>\n",
       "      <th>Input</th>\n",
       "      <th>Info Gain</th>\n",
       "    </tr>\n",
       "  </thead>\n",
       "  <tbody>\n",
       "    <tr>\n",
       "      <th>0</th>\n",
       "      <td>Contract</td>\n",
       "      <td>0.693685</td>\n",
       "    </tr>\n",
       "    <tr>\n",
       "      <th>1</th>\n",
       "      <td>OnlineSecurity</td>\n",
       "      <td>0.097063</td>\n",
       "    </tr>\n",
       "    <tr>\n",
       "      <th>2</th>\n",
       "      <td>tenure</td>\n",
       "      <td>0.083817</td>\n",
       "    </tr>\n",
       "    <tr>\n",
       "      <th>3</th>\n",
       "      <td>MonthlyCharges</td>\n",
       "      <td>0.064707</td>\n",
       "    </tr>\n",
       "    <tr>\n",
       "      <th>4</th>\n",
       "      <td>StreamingMovies</td>\n",
       "      <td>0.029984</td>\n",
       "    </tr>\n",
       "    <tr>\n",
       "      <th>5</th>\n",
       "      <td>InternetService</td>\n",
       "      <td>0.024343</td>\n",
       "    </tr>\n",
       "    <tr>\n",
       "      <th>6</th>\n",
       "      <td>TotalCharges</td>\n",
       "      <td>0.005334</td>\n",
       "    </tr>\n",
       "    <tr>\n",
       "      <th>7</th>\n",
       "      <td>SeniorCitizen</td>\n",
       "      <td>0.001067</td>\n",
       "    </tr>\n",
       "    <tr>\n",
       "      <th>8</th>\n",
       "      <td>MultipleLines</td>\n",
       "      <td>0.000000</td>\n",
       "    </tr>\n",
       "    <tr>\n",
       "      <th>9</th>\n",
       "      <td>PhoneService</td>\n",
       "      <td>0.000000</td>\n",
       "    </tr>\n",
       "    <tr>\n",
       "      <th>10</th>\n",
       "      <td>Dependents</td>\n",
       "      <td>0.000000</td>\n",
       "    </tr>\n",
       "    <tr>\n",
       "      <th>11</th>\n",
       "      <td>OnlineBackup</td>\n",
       "      <td>0.000000</td>\n",
       "    </tr>\n",
       "    <tr>\n",
       "      <th>12</th>\n",
       "      <td>DeviceProtection</td>\n",
       "      <td>0.000000</td>\n",
       "    </tr>\n",
       "    <tr>\n",
       "      <th>13</th>\n",
       "      <td>TechSupport</td>\n",
       "      <td>0.000000</td>\n",
       "    </tr>\n",
       "    <tr>\n",
       "      <th>14</th>\n",
       "      <td>StreamingTV</td>\n",
       "      <td>0.000000</td>\n",
       "    </tr>\n",
       "    <tr>\n",
       "      <th>15</th>\n",
       "      <td>Partner</td>\n",
       "      <td>0.000000</td>\n",
       "    </tr>\n",
       "    <tr>\n",
       "      <th>16</th>\n",
       "      <td>gender</td>\n",
       "      <td>0.000000</td>\n",
       "    </tr>\n",
       "    <tr>\n",
       "      <th>17</th>\n",
       "      <td>PaperlessBilling</td>\n",
       "      <td>0.000000</td>\n",
       "    </tr>\n",
       "    <tr>\n",
       "      <th>18</th>\n",
       "      <td>PaymentMethod</td>\n",
       "      <td>0.000000</td>\n",
       "    </tr>\n",
       "  </tbody>\n",
       "</table>\n",
       "</div>"
      ],
      "text/plain": [
       "               Input  Info Gain\n",
       "0           Contract   0.693685\n",
       "1     OnlineSecurity   0.097063\n",
       "2             tenure   0.083817\n",
       "3     MonthlyCharges   0.064707\n",
       "4    StreamingMovies   0.029984\n",
       "5    InternetService   0.024343\n",
       "6       TotalCharges   0.005334\n",
       "7      SeniorCitizen   0.001067\n",
       "8      MultipleLines   0.000000\n",
       "9       PhoneService   0.000000\n",
       "10        Dependents   0.000000\n",
       "11      OnlineBackup   0.000000\n",
       "12  DeviceProtection   0.000000\n",
       "13       TechSupport   0.000000\n",
       "14       StreamingTV   0.000000\n",
       "15           Partner   0.000000\n",
       "16            gender   0.000000\n",
       "17  PaperlessBilling   0.000000\n",
       "18     PaymentMethod   0.000000"
      ]
     },
     "execution_count": 71,
     "metadata": {},
     "output_type": "execute_result"
    }
   ],
   "source": [
    "# create a dictionary for dataset\n",
    "d={'Input':X.columns,'Info Gain':dt1.feature_importances_}\n",
    "\n",
    "# now convert into dataframe\n",
    "F=pd.DataFrame(d)\n",
    "F.sort_values('Info Gain',ascending=False,ignore_index=True)"
   ]
  },
  {
   "cell_type": "code",
   "execution_count": 72,
   "id": "09d9a08c",
   "metadata": {
    "scrolled": true
   },
   "outputs": [
    {
     "data": {
      "image/png": "[encoded data removed]",
      "text/plain": [
       "<Figure size 1440x1440 with 1 Axes>"
      ]
     },
     "metadata": {
      "needs_background": "light"
     },
     "output_type": "display_data"
    }
   ],
   "source": [
    "# create a tree \n",
    "from sklearn import tree\n",
    "\n",
    "# Tree hamesha inputs/features pe banega, so inputs are in columns\n",
    "features=X.columns\n",
    "plt.figure(figsize=(20,20))\n",
    "_=tree.plot_tree(dt1,feature_names=features,filled=True)"
   ]
  },
  {
   "cell_type": "code",
   "execution_count": 73,
   "id": "bc9d75cd",
   "metadata": {},
   "outputs": [],
   "source": [
    "#2nd pruning technique : min_samples_leaf\n",
    "# leaf means no any child\n",
    "# min_samples_leaf (more than and equals to)>= 45 and (less than and equals to)<= 100"
   ]
  },
  {
   "cell_type": "code",
   "execution_count": 74,
   "id": "d53c4161",
   "metadata": {},
   "outputs": [
    {
     "name": "stdout",
     "output_type": "stream",
     "text": [
      "Min Samples Leaf 45\n",
      "              precision    recall  f1-score   support\n",
      "\n",
      "           0       0.77      0.72      0.74      1582\n",
      "           1       0.74      0.79      0.76      1582\n",
      "\n",
      "    accuracy                           0.75      3164\n",
      "   macro avg       0.75      0.75      0.75      3164\n",
      "weighted avg       0.75      0.75      0.75      3164\n",
      "\n",
      "[[1133  449]\n",
      " [ 331 1251]]\n"
     ]
    }
   ],
   "source": [
    "# create object opf DecisionTreeClassifier class and passing the argument/\n",
    "# parameter min_sample_leaf --> by default Gini index method\n",
    "\n",
    "# for loop\n",
    "'''\n",
    "for i in range (45,101):\n",
    "    dt2=DecisionTreeClassifier(random_state=1,min_samples_leaf=i)\n",
    "    print ('Min Samples Leaf',i)\n",
    "    dt2=final_combo(dt2)\n",
    "'''\n",
    "dt2=DecisionTreeClassifier(random_state=1,min_samples_leaf=45) #temporary commnt kiya hai for loop ke liye\n",
    "print ('Min Samples Leaf 45')\n",
    "dt2=final_combo(dt2)"
   ]
  },
  {
   "cell_type": "code",
   "execution_count": 75,
   "id": "e09a69b9",
   "metadata": {},
   "outputs": [],
   "source": [
    "# First create object of DecisionTreeClassifier class and passing the parameter criterion='entropy'\n",
    "# by default criterion = 'gini index' if did not give\n",
    "\n",
    "dt=DecisionTreeClassifier(random_state=1,criterion='entropy')"
   ]
  },
  {
   "cell_type": "code",
   "execution_count": 76,
   "id": "9a73d858",
   "metadata": {},
   "outputs": [
    {
     "name": "stdout",
     "output_type": "stream",
     "text": [
      "              precision    recall  f1-score   support\n",
      "\n",
      "           0       0.63      0.80      0.70      1582\n",
      "           1       0.73      0.52      0.61      1582\n",
      "\n",
      "    accuracy                           0.66      3164\n",
      "   macro avg       0.68      0.66      0.66      3164\n",
      "weighted avg       0.68      0.66      0.66      3164\n",
      "\n",
      "[[1273  309]\n",
      " [ 759  823]]\n"
     ]
    }
   ],
   "source": [
    "# call function\n",
    "dt=final_combo(dt)"
   ]
  },
  {
   "cell_type": "code",
   "execution_count": 77,
   "id": "112030fc",
   "metadata": {},
   "outputs": [
    {
     "name": "stdout",
     "output_type": "stream",
     "text": [
      "Max depth :  4\n",
      "              precision    recall  f1-score   support\n",
      "\n",
      "           0       0.78      0.73      0.75      1582\n",
      "           1       0.74      0.79      0.77      1582\n",
      "\n",
      "    accuracy                           0.76      3164\n",
      "   macro avg       0.76      0.76      0.76      3164\n",
      "weighted avg       0.76      0.76      0.76      3164\n",
      "\n",
      "[[1147  435]\n",
      " [ 326 1256]]\n"
     ]
    }
   ],
   "source": [
    "# apply pruning technique for DTC using entropy\n",
    "# max_depth <= 8 (less than and equals to)\n",
    "'''\n",
    "for i in range (1,9):\n",
    "    dt=DecisionTreeClassifier(random_state=1,criterion='entropy',max_depth=i)\n",
    "    print ('\\nMax depth : ',i)\n",
    "    # call function\n",
    "    dt=final_combo(dt)\n",
    "'''\n",
    "dt=DecisionTreeClassifier(random_state=1,criterion='entropy',max_depth=4) # best was depth 6\n",
    "# call function\n",
    "print ('Max depth : ',4)\n",
    "dt=final_combo(dt)"
   ]
  },
  {
   "cell_type": "code",
   "execution_count": 78,
   "id": "25896d99",
   "metadata": {},
   "outputs": [
    {
     "name": "stdout",
     "output_type": "stream",
     "text": [
      "Min Samples Leaf :  54\n",
      "              precision    recall  f1-score   support\n",
      "\n",
      "           0       0.75      0.75      0.75      1582\n",
      "           1       0.75      0.75      0.75      1582\n",
      "\n",
      "    accuracy                           0.75      3164\n",
      "   macro avg       0.75      0.75      0.75      3164\n",
      "weighted avg       0.75      0.75      0.75      3164\n",
      "\n",
      "[[1180  402]\n",
      " [ 396 1186]]\n"
     ]
    }
   ],
   "source": [
    "# apply 2nd pruning technique min_sample_leaf\n",
    "'''\n",
    "for i in range (45,101):\n",
    "    dt=DecisionTreeClassifier(random_state=1,criterion='entropy',min_samples_leaf=i)\n",
    "    print ('\\nMin Samples Leaf : ',i)\n",
    "    # call function\n",
    "    dt=final_combo(dt)\n",
    "'''\n",
    "dt=DecisionTreeClassifier(random_state=1,criterion='entropy',min_samples_leaf=54)\n",
    "print ('Min Samples Leaf : ',54) # this was best\n",
    "# call function\n",
    "dt=final_combo(dt)"
   ]
  },
  {
   "cell_type": "code",
   "execution_count": 79,
   "id": "819521e6",
   "metadata": {},
   "outputs": [],
   "source": [
    "#Ensembling Technique : -\n",
    "#There are different types of Ensembling technique\n"
   ]
  },
  {
   "cell_type": "code",
   "execution_count": 80,
   "id": "60cea746",
   "metadata": {},
   "outputs": [],
   "source": [
    "# Apply Ensembling Technique : randomforesttree(it is bootstamping method with bagging)👍\n",
    "\n",
    "# call RandomForestTree from package\n",
    "from sklearn.ensemble import RandomForestClassifier"
   ]
  },
  {
   "cell_type": "code",
   "execution_count": 81,
   "id": "c36146ab",
   "metadata": {},
   "outputs": [
    {
     "data": {
      "text/plain": [
       "(7021, 19)"
      ]
     },
     "execution_count": 81,
     "metadata": {},
     "output_type": "execute_result"
    }
   ],
   "source": [
    "X.shape # total records are 11162 and max featurs are 16"
   ]
  },
  {
   "cell_type": "code",
   "execution_count": 82,
   "id": "a8daef2c",
   "metadata": {},
   "outputs": [
    {
     "name": "stdout",
     "output_type": "stream",
     "text": [
      "\n",
      "No of Features :  7\n",
      "              precision    recall  f1-score   support\n",
      "\n",
      "           0       0.65      0.87      0.75      1582\n",
      "           1       0.80      0.54      0.65      1582\n",
      "\n",
      "    accuracy                           0.70      3164\n",
      "   macro avg       0.73      0.70      0.70      3164\n",
      "weighted avg       0.73      0.70      0.70      3164\n",
      "\n",
      "[[1373  209]\n",
      " [ 725  857]]\n"
     ]
    },
    {
     "data": {
      "text/plain": [
       "\"\\nfor i in range(19,1,-1): # we can also do in ascending (1,20)=20-1=19\\n    #created object of RandomForestClassifier as 'rfc'\\n    rfc=RandomForestClassifier(n_estimators=10,max_features=i,random_state=1)\\n    print('\\nNo of Features : ',i)\\n    #call function\\n    rfc=final_combo(rfc)\\n\""
      ]
     },
     "execution_count": 82,
     "metadata": {},
     "output_type": "execute_result"
    }
   ],
   "source": [
    "# using GINI index\n",
    "#created object of RandomForestClassifier as 'rfc'\n",
    "rfc=RandomForestClassifier(n_estimators=10,max_features=7,\n",
    "                           random_state=1) # by default GINI index\n",
    "# by default 10 # temporary comment for loop\n",
    "# here n_estimators means take how many decisiontreeclassifier min=10 and max=100\n",
    "#call function\n",
    "print('\\nNo of Features : ',7) # feature no 11 taken as the score was better\n",
    "rfc=final_combo(rfc)\n",
    "\n",
    "'''\n",
    "for i in range(19,1,-1): # we can also do in ascending (1,20)=20-1=19\n",
    "    #created object of RandomForestClassifier as 'rfc'\n",
    "    rfc=RandomForestClassifier(n_estimators=10,max_features=i,random_state=1)\n",
    "    print('\\nNo of Features : ',i)\n",
    "    #call function\n",
    "    rfc=final_combo(rfc)\n",
    "'''"
   ]
  },
  {
   "cell_type": "code",
   "execution_count": 83,
   "id": "54399c39",
   "metadata": {},
   "outputs": [
    {
     "name": "stdout",
     "output_type": "stream",
     "text": [
      "No of Features :  3\n",
      "              precision    recall  f1-score   support\n",
      "\n",
      "           0       0.66      0.86      0.75      1582\n",
      "           1       0.80      0.56      0.66      1582\n",
      "\n",
      "    accuracy                           0.71      3164\n",
      "   macro avg       0.73      0.71      0.70      3164\n",
      "weighted avg       0.73      0.71      0.70      3164\n",
      "\n",
      "[[1368  214]\n",
      " [ 699  883]]\n"
     ]
    },
    {
     "data": {
      "text/plain": [
       "\"\\nfor i in range(1,20): \\n    #created object of RandomForestClassifier as 'rfc'\\n    rfc=RandomForestClassifier(n_estimators=10,max_features=i,\\n                               random_state=1,criterion='entropy')\\n    print('\\nNo of Features : ',i)\\n    #call function\\n    rfc=final_combo(rfc)\\n\""
      ]
     },
     "execution_count": 83,
     "metadata": {},
     "output_type": "execute_result"
    }
   ],
   "source": [
    "# using entropy index\n",
    "#created object of RandomForestClassifier as 'rfc'\n",
    "rfc=RandomForestClassifier(n_estimators=10,max_features=3,\n",
    "                               random_state=1,criterion='entropy')\n",
    "print('No of Features : ',3) # 3 features mai score best hai\n",
    "#call function\n",
    "rfc=final_combo(rfc)\n",
    "\n",
    "'''\n",
    "for i in range(1,20): \n",
    "    #created object of RandomForestClassifier as 'rfc'\n",
    "    rfc=RandomForestClassifier(n_estimators=10,max_features=i,\n",
    "                               random_state=1,criterion='entropy')\n",
    "    print('\\nNo of Features : ',i)\n",
    "    #call function\n",
    "    rfc=final_combo(rfc)\n",
    "'''"
   ]
  },
  {
   "cell_type": "code",
   "execution_count": 84,
   "id": "9f232e73",
   "metadata": {
    "scrolled": true
   },
   "outputs": [
    {
     "data": {
      "text/html": [
       "<div>\n",
       "<style scoped>\n",
       "    .dataframe tbody tr th:only-of-type {\n",
       "        vertical-align: middle;\n",
       "    }\n",
       "\n",
       "    .dataframe tbody tr th {\n",
       "        vertical-align: top;\n",
       "    }\n",
       "\n",
       "    .dataframe thead th {\n",
       "        text-align: right;\n",
       "    }\n",
       "</style>\n",
       "<table border=\"1\" class=\"dataframe\">\n",
       "  <thead>\n",
       "    <tr style=\"text-align: right;\">\n",
       "      <th></th>\n",
       "      <th>Input</th>\n",
       "      <th>Info Gain</th>\n",
       "    </tr>\n",
       "  </thead>\n",
       "  <tbody>\n",
       "    <tr>\n",
       "      <th>0</th>\n",
       "      <td>TotalCharges</td>\n",
       "      <td>0.173299</td>\n",
       "    </tr>\n",
       "    <tr>\n",
       "      <th>1</th>\n",
       "      <td>MonthlyCharges</td>\n",
       "      <td>0.164219</td>\n",
       "    </tr>\n",
       "    <tr>\n",
       "      <th>2</th>\n",
       "      <td>tenure</td>\n",
       "      <td>0.144533</td>\n",
       "    </tr>\n",
       "    <tr>\n",
       "      <th>3</th>\n",
       "      <td>Contract</td>\n",
       "      <td>0.108477</td>\n",
       "    </tr>\n",
       "    <tr>\n",
       "      <th>4</th>\n",
       "      <td>OnlineSecurity</td>\n",
       "      <td>0.059838</td>\n",
       "    </tr>\n",
       "    <tr>\n",
       "      <th>5</th>\n",
       "      <td>PaymentMethod</td>\n",
       "      <td>0.049066</td>\n",
       "    </tr>\n",
       "    <tr>\n",
       "      <th>6</th>\n",
       "      <td>TechSupport</td>\n",
       "      <td>0.035683</td>\n",
       "    </tr>\n",
       "    <tr>\n",
       "      <th>7</th>\n",
       "      <td>gender</td>\n",
       "      <td>0.029260</td>\n",
       "    </tr>\n",
       "    <tr>\n",
       "      <th>8</th>\n",
       "      <td>InternetService</td>\n",
       "      <td>0.028080</td>\n",
       "    </tr>\n",
       "    <tr>\n",
       "      <th>9</th>\n",
       "      <td>MultipleLines</td>\n",
       "      <td>0.027063</td>\n",
       "    </tr>\n",
       "    <tr>\n",
       "      <th>10</th>\n",
       "      <td>PaperlessBilling</td>\n",
       "      <td>0.024864</td>\n",
       "    </tr>\n",
       "    <tr>\n",
       "      <th>11</th>\n",
       "      <td>OnlineBackup</td>\n",
       "      <td>0.024839</td>\n",
       "    </tr>\n",
       "    <tr>\n",
       "      <th>12</th>\n",
       "      <td>Partner</td>\n",
       "      <td>0.023385</td>\n",
       "    </tr>\n",
       "    <tr>\n",
       "      <th>13</th>\n",
       "      <td>DeviceProtection</td>\n",
       "      <td>0.021962</td>\n",
       "    </tr>\n",
       "    <tr>\n",
       "      <th>14</th>\n",
       "      <td>StreamingMovies</td>\n",
       "      <td>0.020664</td>\n",
       "    </tr>\n",
       "    <tr>\n",
       "      <th>15</th>\n",
       "      <td>Dependents</td>\n",
       "      <td>0.019617</td>\n",
       "    </tr>\n",
       "    <tr>\n",
       "      <th>16</th>\n",
       "      <td>SeniorCitizen</td>\n",
       "      <td>0.019418</td>\n",
       "    </tr>\n",
       "    <tr>\n",
       "      <th>17</th>\n",
       "      <td>StreamingTV</td>\n",
       "      <td>0.019276</td>\n",
       "    </tr>\n",
       "    <tr>\n",
       "      <th>18</th>\n",
       "      <td>PhoneService</td>\n",
       "      <td>0.006458</td>\n",
       "    </tr>\n",
       "  </tbody>\n",
       "</table>\n",
       "</div>"
      ],
      "text/plain": [
       "               Input  Info Gain\n",
       "0       TotalCharges   0.173299\n",
       "1     MonthlyCharges   0.164219\n",
       "2             tenure   0.144533\n",
       "3           Contract   0.108477\n",
       "4     OnlineSecurity   0.059838\n",
       "5      PaymentMethod   0.049066\n",
       "6        TechSupport   0.035683\n",
       "7             gender   0.029260\n",
       "8    InternetService   0.028080\n",
       "9      MultipleLines   0.027063\n",
       "10  PaperlessBilling   0.024864\n",
       "11      OnlineBackup   0.024839\n",
       "12           Partner   0.023385\n",
       "13  DeviceProtection   0.021962\n",
       "14   StreamingMovies   0.020664\n",
       "15        Dependents   0.019617\n",
       "16     SeniorCitizen   0.019418\n",
       "17       StreamingTV   0.019276\n",
       "18      PhoneService   0.006458"
      ]
     },
     "execution_count": 84,
     "metadata": {},
     "output_type": "execute_result"
    }
   ],
   "source": [
    "# show the information gain of all input features\n",
    "d={'Input':X.columns,'Info Gain':rfc.feature_importances_}\n",
    "\n",
    "# now convert into dataframe\n",
    "F=pd.DataFrame(d)\n",
    "F.sort_values('Info Gain',ascending=False,ignore_index=True)"
   ]
  },
  {
   "cell_type": "code",
   "execution_count": 85,
   "id": "4800ed43",
   "metadata": {},
   "outputs": [],
   "source": [
    "# USE BOOSTING Technique : it is ensembling technique\n",
    "\n",
    "# 1st tech : ADA BOOST : means adaptor Boosting : its work on decission stump\n",
    "\n",
    "# apply ADA BOOST on given dataset of bank.csv\n",
    "from sklearn.ensemble import AdaBoostClassifier"
   ]
  },
  {
   "cell_type": "code",
   "execution_count": 86,
   "id": "e456b288",
   "metadata": {},
   "outputs": [
    {
     "data": {
      "text/plain": [
       "(7021, 19)"
      ]
     },
     "execution_count": 86,
     "metadata": {},
     "output_type": "execute_result"
    }
   ],
   "source": [
    "X.shape"
   ]
  },
  {
   "cell_type": "code",
   "execution_count": 87,
   "id": "cae7f4b4",
   "metadata": {},
   "outputs": [
    {
     "name": "stdout",
     "output_type": "stream",
     "text": [
      "No. of Decission Stump :  11\n",
      "              precision    recall  f1-score   support\n",
      "\n",
      "           0       0.79      0.71      0.75      1582\n",
      "           1       0.73      0.81      0.77      1582\n",
      "\n",
      "    accuracy                           0.76      3164\n",
      "   macro avg       0.76      0.76      0.76      3164\n",
      "weighted avg       0.76      0.76      0.76      3164\n",
      "\n",
      "[[1116  466]\n",
      " [ 293 1289]]\n"
     ]
    },
    {
     "data": {
      "text/plain": [
       "\"\\nfor i in range(1,20):\\n    # creating object of AdaBoostClassifier class\\n    ada=AdaBoostClassifier(n_estimators=i)\\n    print ('\\nNo. of Decission Stump : ',i)\\n    \\n    #now call function\\n    ada=final_combo(ada)\\n\""
      ]
     },
     "execution_count": 87,
     "metadata": {},
     "output_type": "execute_result"
    }
   ],
   "source": [
    "# creating object of AdaBoostClassifier class\n",
    "ada=AdaBoostClassifier(n_estimators=11,random_state=1)\n",
    "# temporary comment for lopp # taken n_estimators=3 as it was better\n",
    "# n_estimators means no of decision stump, it can be <= 100 # 19 means inputs\n",
    "# now call function\n",
    "print ('No. of Decission Stump : ',11)\n",
    "ada=final_combo(ada)\n",
    "\n",
    "\n",
    "'''\n",
    "for i in range(1,20):\n",
    "    # creating object of AdaBoostClassifier class\n",
    "    ada=AdaBoostClassifier(n_estimators=i)\n",
    "    print ('\\nNo. of Decission Stump : ',i)\n",
    "    \n",
    "    #now call function\n",
    "    ada=final_combo(ada)\n",
    "'''"
   ]
  },
  {
   "cell_type": "code",
   "execution_count": 88,
   "id": "8d2b3b97",
   "metadata": {},
   "outputs": [],
   "source": [
    "# Applying Gradient Boost technuique on same dataset telecom_churn.csv which hold in dataframe df\n",
    "# call GradientBoostingClassifier class from following package\n",
    "from sklearn.ensemble import GradientBoostingClassifier"
   ]
  },
  {
   "cell_type": "code",
   "execution_count": 89,
   "id": "de0502ed",
   "metadata": {},
   "outputs": [
    {
     "name": "stdout",
     "output_type": "stream",
     "text": [
      "No of estimators : 37\n",
      "              precision    recall  f1-score   support\n",
      "\n",
      "           0       0.80      0.72      0.75      1582\n",
      "           1       0.74      0.82      0.78      1582\n",
      "\n",
      "    accuracy                           0.77      3164\n",
      "   macro avg       0.77      0.77      0.77      3164\n",
      "weighted avg       0.77      0.77      0.77      3164\n",
      "\n",
      "[[1134  448]\n",
      " [ 288 1294]]\n"
     ]
    },
    {
     "data": {
      "text/plain": [
       "\"\\nfor i in range(10,101,1):\\n    # create object of GradientBoostingClassifier class\\n    gbc=GradientBoostingClassifier(n_estimators=i,random_state=1)\\n    print ('\\nNo of estimators :',i)\\n    \\n    #call function\\n    gbc=final_combo(gbc)\\n\""
      ]
     },
     "execution_count": 89,
     "metadata": {},
     "output_type": "execute_result"
    }
   ],
   "source": [
    "# create object of GradientBoostingClassifier class\n",
    "\n",
    "gbc=GradientBoostingClassifier(n_estimators=37,random_state=1) # 37 was better\n",
    "# here n_estimator can be <=100 by default algorithm decissiontreeclassifier\n",
    "#call function\n",
    "print ('No of estimators :',37)\n",
    "gbc=final_combo(gbc)\n",
    "\n",
    "'''\n",
    "for i in range(10,101,1):\n",
    "    # create object of GradientBoostingClassifier class\n",
    "    gbc=GradientBoostingClassifier(n_estimators=i,random_state=1)\n",
    "    print ('\\nNo of estimators :',i)\n",
    "    \n",
    "    #call function\n",
    "    gbc=final_combo(gbc)\n",
    "'''"
   ]
  },
  {
   "cell_type": "code",
   "execution_count": 90,
   "id": "30d388ba",
   "metadata": {},
   "outputs": [
    {
     "name": "stdout",
     "output_type": "stream",
     "text": [
      "Requirement already satisfied: xgboost in c:\\programdata\\anaconda3\\lib\\site-packages (1.6.2)\n",
      "Requirement already satisfied: scipy in c:\\programdata\\anaconda3\\lib\\site-packages (from xgboost) (1.7.3)\n",
      "Requirement already satisfied: numpy in c:\\programdata\\anaconda3\\lib\\site-packages (from xgboost) (1.21.5)\n"
     ]
    }
   ],
   "source": [
    "# XGB: XGBClassifier class:- use inbuilt\n",
    "# package xgboost\n",
    "#!pip install xgboost"
   ]
  },
  {
   "cell_type": "code",
   "execution_count": 91,
   "id": "7bd0f6a6",
   "metadata": {},
   "outputs": [],
   "source": [
    "# call library\n",
    "from xgboost import XGBClassifier"
   ]
  },
  {
   "cell_type": "code",
   "execution_count": 92,
   "id": "69188c1f",
   "metadata": {},
   "outputs": [
    {
     "name": "stdout",
     "output_type": "stream",
     "text": [
      "\n",
      "No of Estimators : 10\n",
      "              precision    recall  f1-score   support\n",
      "\n",
      "           0       0.77      0.75      0.76      1582\n",
      "           1       0.75      0.78      0.77      1582\n",
      "\n",
      "    accuracy                           0.76      3164\n",
      "   macro avg       0.76      0.76      0.76      3164\n",
      "weighted avg       0.76      0.76      0.76      3164\n",
      "\n",
      "[[1179  403]\n",
      " [ 347 1235]]\n"
     ]
    }
   ],
   "source": [
    "# for loop se pata chal jata hai kisme acha hai result\n",
    "'''\n",
    "for i in range(10,101):\n",
    "    xgc=XGBClassifier(n_estimators=i,reg_alpha=1,random_state=1)\n",
    "    print ('\\nNo of Estimators :',i)\n",
    "    #call function\n",
    "    xgc=final_combo(xgc)\n",
    "'''\n",
    "# now create object of XGBClassifier class as alias xgb\n",
    "xgc=XGBClassifier(n_estimators=10,reg_alpha=1,random_state=1) #reg_alpha=1 means yesss \n",
    "# 10 pe better hai\n",
    "print ('\\nNo of Estimators :',10)\n",
    "#call function\n",
    "xgc=final_combo(xgc)\n",
    "\n",
    "# automatically overfitting : reg means regularisation and alpha or lambda : hyperparameter\n",
    "# n_estimators can be minimum 10 and maximum 100\n"
   ]
  },
  {
   "cell_type": "markdown",
   "id": "1b2e20f4",
   "metadata": {},
   "source": [
    "# Conclusion: As per recall score  \n",
    "# DecisionTreeClassifier(Entropy : min_sample_leaf) is best algo.\n",
    "# 0's=75 and 1's=85"
   ]
  },
  {
   "cell_type": "markdown",
   "id": "aa5c9e88",
   "metadata": {},
   "source": [
    "    Recall score in different algo are:\n",
    "        1) logisticRegression                               : 0's=89 and 1's=58\n",
    "        2) DecisionTreeClassifier                           : 0's=82 and 1's=50\n",
    "        3) DecisionTreeClassifier (max_depth)               : 0's=71 and 1's=80\n",
    "        4) DecisionTreeClassifier (min_sample_leaf)         : 0's=72 and 1's=79\n",
    "        5) DecisionTreeClassifier (Entropy:max_depth)       : 0's=73 and 1's=79\n",
    "        6) DecisionTreeClassifier (Entropy:min_sample_leaf) : 0's=75 and 1's=85 **\n",
    "        7) RandomForestClassifier (GINI index)              : 0's=87 and 1's=54\n",
    "        7) RandomForestClassifier (Entropy)                 : 0's=86 and 1's=56\n",
    "        8) AdaBoostClassifier                               : 0's=71 and 1's=81\n",
    "        9) GradientBoostingClassifier                       : 0's=72 and 1's=82\n",
    "       10) XGBClassifier                                    : 0's=75 and 1's=78"
   ]
  },
  {
   "cell_type": "code",
   "execution_count": null,
   "id": "fa4ba31f",
   "metadata": {},
   "outputs": [],
   "source": []
  },
  {
   "cell_type": "code",
   "execution_count": null,
   "id": "4c9b4b2d",
   "metadata": {},
   "outputs": [],
   "source": []
  },
  {
   "cell_type": "code",
   "execution_count": null,
   "id": "122a9343",
   "metadata": {},
   "outputs": [],
   "source": []
  },
  {
   "cell_type": "code",
   "execution_count": null,
   "id": "64a1a167",
   "metadata": {},
   "outputs": [],
   "source": []
  }
 ],
 "metadata": {
  "kernelspec": {
   "display_name": "Python 3 (ipykernel)",
   "language": "python",
   "name": "python3"
  },
  "language_info": {
   "codemirror_mode": {
    "name": "ipython",
    "version": 3
   },
   "file_extension": ".py",
   "mimetype": "text/x-python",
   "name": "python",
   "nbconvert_exporter": "python",
   "pygments_lexer": "ipython3",
   "version": "3.9.12"
  }
 },
 "nbformat": 4,
 "nbformat_minor": 5
}
